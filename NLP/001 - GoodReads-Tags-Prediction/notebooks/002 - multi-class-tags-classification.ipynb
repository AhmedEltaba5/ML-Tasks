{
 "cells": [
  {
   "cell_type": "markdown",
   "metadata": {},
   "source": [
    "# 1- Importing libs\n"
   ]
  },
  {
   "cell_type": "code",
   "execution_count": 2,
   "metadata": {
    "_cell_guid": "b1076dfc-b9ad-4769-8c92-a6c4dae69d19",
    "_uuid": "8f2839f25d086af736a60e9eeb907d3b93b6e0e5",
    "execution": {
     "iopub.execute_input": "2021-11-21T22:02:50.599918Z",
     "iopub.status.busy": "2021-11-21T22:02:50.599602Z",
     "iopub.status.idle": "2021-11-21T22:02:50.623259Z",
     "shell.execute_reply": "2021-11-21T22:02:50.622401Z",
     "shell.execute_reply.started": "2021-11-21T22:02:50.599886Z"
    }
   },
   "outputs": [],
   "source": [
    "import numpy as np\n",
    "import pandas as pd\n",
    "import matplotlib.pyplot as plt\n",
    "import seaborn as sns\n",
    "from datetime import datetime\n",
    "import random\n",
    "\n",
    "np.random.seed(2021) \n",
    "\n",
    "import re\n",
    "import string\n",
    "from collections import Counter\n",
    "\n",
    "import scipy.spatial\n",
    "from sklearn.model_selection import train_test_split\n",
    "from sklearn.feature_extraction.text import CountVectorizer,TfidfVectorizer\n",
    "from sklearn.model_selection import train_test_split\n",
    "from sklearn.preprocessing import MultiLabelBinarizer\n",
    "from sklearn.multiclass import OneVsRestClassifier\n",
    "\n",
    "from sklearn.linear_model import SGDClassifier, LinearRegression\n",
    "from sklearn.svm import LinearSVC\n",
    "import xgboost as xgb\n",
    "\n",
    "\n",
    "import nltk\n",
    "from nltk.corpus import stopwords\n",
    "from nltk.tokenize import word_tokenize\n",
    "from nltk import ngrams\n",
    "\n",
    "\n",
    "from tqdm import tqdm\n",
    "from pprint import pprint\n",
    "\n",
    "import sys\n",
    "import os\n",
    "import glob\n",
    "# Graphics in retina format are more sharp and legible\n",
    "%config InlineBackend.figure_format = 'retina'"
   ]
  },
  {
   "cell_type": "code",
   "execution_count": 3,
   "metadata": {
    "execution": {
     "iopub.execute_input": "2021-11-21T22:02:50.626773Z",
     "iopub.status.busy": "2021-11-21T22:02:50.626317Z",
     "iopub.status.idle": "2021-11-21T22:02:50.631122Z",
     "shell.execute_reply": "2021-11-21T22:02:50.630178Z",
     "shell.execute_reply.started": "2021-11-21T22:02:50.626731Z"
    }
   },
   "outputs": [],
   "source": [
    "PATH = '../Goodreads data'"
   ]
  },
  {
   "cell_type": "code",
   "execution_count": 4,
   "metadata": {
    "execution": {
     "iopub.execute_input": "2021-11-21T22:02:50.633966Z",
     "iopub.status.busy": "2021-11-21T22:02:50.633541Z",
     "iopub.status.idle": "2021-11-21T22:02:50.658942Z",
     "shell.execute_reply": "2021-11-21T22:02:50.658207Z",
     "shell.execute_reply.started": "2021-11-21T22:02:50.633927Z"
    }
   },
   "outputs": [
    {
     "data": {
      "text/html": [
       "<div>\n",
       "<style scoped>\n",
       "    .dataframe tbody tr th:only-of-type {\n",
       "        vertical-align: middle;\n",
       "    }\n",
       "\n",
       "    .dataframe tbody tr th {\n",
       "        vertical-align: top;\n",
       "    }\n",
       "\n",
       "    .dataframe thead th {\n",
       "        text-align: right;\n",
       "    }\n",
       "</style>\n",
       "<table border=\"1\" class=\"dataframe\">\n",
       "  <thead>\n",
       "    <tr style=\"text-align: right;\">\n",
       "      <th></th>\n",
       "      <th>quotes</th>\n",
       "      <th>tags</th>\n",
       "    </tr>\n",
       "  </thead>\n",
       "  <tbody>\n",
       "    <tr>\n",
       "      <th>0</th>\n",
       "      <td>Be yourself; everyone else is already taken.</td>\n",
       "      <td>['attributed-no-source', 'be-yourself', 'hones...</td>\n",
       "    </tr>\n",
       "    <tr>\n",
       "      <th>1</th>\n",
       "      <td>I'm selfish, impatient and a little insecure. ...</td>\n",
       "      <td>['attributed-no-source', 'best', 'life', 'love...</td>\n",
       "    </tr>\n",
       "    <tr>\n",
       "      <th>2</th>\n",
       "      <td>Two things are infinite: the universe and huma...</td>\n",
       "      <td>['attributed-no-source', 'human-nature', 'humo...</td>\n",
       "    </tr>\n",
       "    <tr>\n",
       "      <th>3</th>\n",
       "      <td>So many books, so little time.</td>\n",
       "      <td>['books', 'humor']</td>\n",
       "    </tr>\n",
       "    <tr>\n",
       "      <th>4</th>\n",
       "      <td>A room without books is like a body without a ...</td>\n",
       "      <td>['attributed-no-source', 'books', 'simile', 's...</td>\n",
       "    </tr>\n",
       "  </tbody>\n",
       "</table>\n",
       "</div>"
      ],
      "text/plain": [
       "                                              quotes  \\\n",
       "0       Be yourself; everyone else is already taken.   \n",
       "1  I'm selfish, impatient and a little insecure. ...   \n",
       "2  Two things are infinite: the universe and huma...   \n",
       "3                     So many books, so little time.   \n",
       "4  A room without books is like a body without a ...   \n",
       "\n",
       "                                                tags  \n",
       "0  ['attributed-no-source', 'be-yourself', 'hones...  \n",
       "1  ['attributed-no-source', 'best', 'life', 'love...  \n",
       "2  ['attributed-no-source', 'human-nature', 'humo...  \n",
       "3                                 ['books', 'humor']  \n",
       "4  ['attributed-no-source', 'books', 'simile', 's...  "
      ]
     },
     "execution_count": 4,
     "metadata": {},
     "output_type": "execute_result"
    }
   ],
   "source": [
    "quotes_multi_label_data = pd.read_csv(PATH + '/popular_quotes.csv')\n",
    "quotes_multi_label_data.head()"
   ]
  },
  {
   "cell_type": "markdown",
   "metadata": {},
   "source": [
    "# 2- Pre-processing"
   ]
  },
  {
   "cell_type": "code",
   "execution_count": 5,
   "metadata": {
    "execution": {
     "iopub.execute_input": "2021-11-21T22:02:50.660410Z",
     "iopub.status.busy": "2021-11-21T22:02:50.660141Z",
     "iopub.status.idle": "2021-11-21T22:02:50.665753Z",
     "shell.execute_reply": "2021-11-21T22:02:50.664710Z",
     "shell.execute_reply.started": "2021-11-21T22:02:50.660376Z"
    }
   },
   "outputs": [],
   "source": [
    "def plot_freq(data, st):\n",
    "    '''\n",
    "        take the data, and st refeere to kind of sentiment\n",
    "    '''\n",
    "    plt.figure(figsize=(12, 6))\n",
    "    sns.barplot(data= data , x= 'counts', y= 'word')\n",
    "    plt.title(f'Top 20 words in {st} quotes')\n",
    "    plt.show();"
   ]
  },
  {
   "cell_type": "code",
   "execution_count": 6,
   "metadata": {
    "execution": {
     "iopub.execute_input": "2021-11-21T22:02:50.668944Z",
     "iopub.status.busy": "2021-11-21T22:02:50.668388Z",
     "iopub.status.idle": "2021-11-21T22:02:50.676295Z",
     "shell.execute_reply": "2021-11-21T22:02:50.675125Z",
     "shell.execute_reply.started": "2021-11-21T22:02:50.668871Z"
    }
   },
   "outputs": [],
   "source": [
    "stop_words = stopwords.words('english')\n",
    "stemmer    = nltk.SnowballStemmer(\"english\")"
   ]
  },
  {
   "cell_type": "code",
   "execution_count": 7,
   "metadata": {
    "execution": {
     "iopub.execute_input": "2021-11-21T22:02:50.678301Z",
     "iopub.status.busy": "2021-11-21T22:02:50.677756Z",
     "iopub.status.idle": "2021-11-21T22:02:50.685797Z",
     "shell.execute_reply": "2021-11-21T22:02:50.685044Z",
     "shell.execute_reply.started": "2021-11-21T22:02:50.678235Z"
    }
   },
   "outputs": [],
   "source": [
    "def clean_text(text):\n",
    "    '''\n",
    "        Make text lowercase, remove text in square brackets,remove links,remove punctuation\n",
    "        and remove words containing numbers.\n",
    "    '''\n",
    "    # text = re.findall('“([^\"]*)”', text)[0] # extract text for quotations\n",
    "    text = str(text).lower()\n",
    "    text = re.sub('\\[.*?\\]', '', text)\n",
    "    text = re.sub('<.*?>+', '', text)\n",
    "    text = re.sub('[%s]' % re.escape(string.punctuation), '', text) # remove punctuation\n",
    "    text = re.sub('\\n', '', text)\n",
    "    text = re.sub('\\w*\\d\\w*', '', text)\n",
    "    return text"
   ]
  },
  {
   "cell_type": "code",
   "execution_count": 8,
   "metadata": {
    "execution": {
     "iopub.execute_input": "2021-11-21T22:02:50.689718Z",
     "iopub.status.busy": "2021-11-21T22:02:50.689005Z",
     "iopub.status.idle": "2021-11-21T22:02:50.696255Z",
     "shell.execute_reply": "2021-11-21T22:02:50.695391Z",
     "shell.execute_reply.started": "2021-11-21T22:02:50.689677Z"
    }
   },
   "outputs": [],
   "source": [
    "def preprocess_data(text):\n",
    "    # text = remove_quotations(text)                                            # extract text for quotations\n",
    "    text = clean_text(text)                                                     # Clean puntuation, urls, and so on\n",
    "    text = ' '.join(word for word in text.split() if word not in stop_words)    # Remove stopwords\n",
    "    text = ' '.join(stemmer.stem(word) for word in text.split())                # Stemm all the words in the sentence\n",
    "    return text"
   ]
  },
  {
   "cell_type": "markdown",
   "metadata": {},
   "source": [
    "**Here the tags col has a str type instate of list for each quote, so we will convert it to list**"
   ]
  },
  {
   "cell_type": "code",
   "execution_count": 9,
   "metadata": {
    "execution": {
     "iopub.execute_input": "2021-11-21T22:02:50.699498Z",
     "iopub.status.busy": "2021-11-21T22:02:50.699000Z",
     "iopub.status.idle": "2021-11-21T22:02:50.707379Z",
     "shell.execute_reply": "2021-11-21T22:02:50.706481Z",
     "shell.execute_reply.started": "2021-11-21T22:02:50.699463Z"
    }
   },
   "outputs": [
    {
     "name": "stdout",
     "output_type": "stream",
     "text": [
      "['attributed-no-source', 'be-yourself', 'honesty', 'inspirational', 'misattributed-oscar-wilde']\n",
      "<class 'str'>\n",
      "[\n"
     ]
    }
   ],
   "source": [
    "print(quotes_multi_label_data['tags'][0])\n",
    "print(type(quotes_multi_label_data['tags'][0]))\n",
    "print(quotes_multi_label_data['tags'][0][0]) # print char instate of str as a tag word"
   ]
  },
  {
   "cell_type": "code",
   "execution_count": 10,
   "metadata": {
    "execution": {
     "iopub.execute_input": "2021-11-21T22:02:50.709214Z",
     "iopub.status.busy": "2021-11-21T22:02:50.708758Z",
     "iopub.status.idle": "2021-11-21T22:02:51.546262Z",
     "shell.execute_reply": "2021-11-21T22:02:51.545423Z",
     "shell.execute_reply.started": "2021-11-21T22:02:50.709179Z"
    }
   },
   "outputs": [
    {
     "data": {
      "text/html": [
       "<div>\n",
       "<style scoped>\n",
       "    .dataframe tbody tr th:only-of-type {\n",
       "        vertical-align: middle;\n",
       "    }\n",
       "\n",
       "    .dataframe tbody tr th {\n",
       "        vertical-align: top;\n",
       "    }\n",
       "\n",
       "    .dataframe thead th {\n",
       "        text-align: right;\n",
       "    }\n",
       "</style>\n",
       "<table border=\"1\" class=\"dataframe\">\n",
       "  <thead>\n",
       "    <tr style=\"text-align: right;\">\n",
       "      <th></th>\n",
       "      <th>quotes</th>\n",
       "      <th>tags</th>\n",
       "      <th>clean_text</th>\n",
       "      <th>n_tags</th>\n",
       "    </tr>\n",
       "  </thead>\n",
       "  <tbody>\n",
       "    <tr>\n",
       "      <th>0</th>\n",
       "      <td>Be yourself; everyone else is already taken.</td>\n",
       "      <td>[attributed-no-source, be-yourself, honesty, i...</td>\n",
       "      <td>everyon els alreadi taken</td>\n",
       "      <td>5</td>\n",
       "    </tr>\n",
       "    <tr>\n",
       "      <th>1</th>\n",
       "      <td>I'm selfish, impatient and a little insecure. ...</td>\n",
       "      <td>[attributed-no-source, best, life, love, mista...</td>\n",
       "      <td>im selfish impati littl insecur make mistak co...</td>\n",
       "      <td>8</td>\n",
       "    </tr>\n",
       "    <tr>\n",
       "      <th>2</th>\n",
       "      <td>Two things are infinite: the universe and huma...</td>\n",
       "      <td>[attributed-no-source, human-nature, humor, in...</td>\n",
       "      <td>two thing infinit univers human stupid im sure...</td>\n",
       "      <td>8</td>\n",
       "    </tr>\n",
       "    <tr>\n",
       "      <th>3</th>\n",
       "      <td>So many books, so little time.</td>\n",
       "      <td>[books, humor]</td>\n",
       "      <td>mani book littl time</td>\n",
       "      <td>2</td>\n",
       "    </tr>\n",
       "    <tr>\n",
       "      <th>4</th>\n",
       "      <td>A room without books is like a body without a ...</td>\n",
       "      <td>[attributed-no-source, books, simile, soul]</td>\n",
       "      <td>room without book like bodi without soul</td>\n",
       "      <td>4</td>\n",
       "    </tr>\n",
       "  </tbody>\n",
       "</table>\n",
       "</div>"
      ],
      "text/plain": [
       "                                              quotes  \\\n",
       "0       Be yourself; everyone else is already taken.   \n",
       "1  I'm selfish, impatient and a little insecure. ...   \n",
       "2  Two things are infinite: the universe and huma...   \n",
       "3                     So many books, so little time.   \n",
       "4  A room without books is like a body without a ...   \n",
       "\n",
       "                                                tags  \\\n",
       "0  [attributed-no-source, be-yourself, honesty, i...   \n",
       "1  [attributed-no-source, best, life, love, mista...   \n",
       "2  [attributed-no-source, human-nature, humor, in...   \n",
       "3                                     [books, humor]   \n",
       "4        [attributed-no-source, books, simile, soul]   \n",
       "\n",
       "                                          clean_text  n_tags  \n",
       "0                          everyon els alreadi taken       5  \n",
       "1  im selfish impati littl insecur make mistak co...       8  \n",
       "2  two thing infinit univers human stupid im sure...       8  \n",
       "3                               mani book littl time       2  \n",
       "4           room without book like bodi without soul       4  "
      ]
     },
     "execution_count": 10,
     "metadata": {},
     "output_type": "execute_result"
    }
   ],
   "source": [
    "# make a preprocessing pipeline \n",
    "quotes_multi_label_data['clean_text'] = quotes_multi_label_data['quotes'].apply(preprocess_data)\n",
    "\n",
    "# remove ' and , from the string and [] and spliting the tags\n",
    "quotes_multi_label_data['tags'] = quotes_multi_label_data['tags'].apply(lambda tags: tags.replace(\"'\",\"\").replace(\",\",\"\")[1:-1].split())\n",
    "\n",
    "# get the len of number of tags in each quote\n",
    "quotes_multi_label_data['n_tags'] = quotes_multi_label_data['tags'].apply(lambda tags: len(tags))\n",
    "quotes_multi_label_data.head()"
   ]
  },
  {
   "cell_type": "code",
   "execution_count": 11,
   "metadata": {
    "execution": {
     "iopub.execute_input": "2021-11-21T22:02:51.549337Z",
     "iopub.status.busy": "2021-11-21T22:02:51.549023Z",
     "iopub.status.idle": "2021-11-21T22:02:51.555030Z",
     "shell.execute_reply": "2021-11-21T22:02:51.553990Z",
     "shell.execute_reply.started": "2021-11-21T22:02:51.549295Z"
    }
   },
   "outputs": [
    {
     "name": "stdout",
     "output_type": "stream",
     "text": [
      "['attributed-no-source', 'be-yourself', 'honesty', 'inspirational', 'misattributed-oscar-wilde']\n",
      "<class 'list'>\n",
      "attributed-no-source\n"
     ]
    }
   ],
   "source": [
    "print(quotes_multi_label_data['tags'][0])\n",
    "print(type(quotes_multi_label_data['tags'][0]))\n",
    "print(quotes_multi_label_data['tags'][0][0]) # print char instate of str as a tag word"
   ]
  },
  {
   "cell_type": "markdown",
   "metadata": {},
   "source": [
    "**Here we converted the list as a string to actual list type**"
   ]
  },
  {
   "cell_type": "markdown",
   "metadata": {},
   "source": [
    "### Distribution on number of tags"
   ]
  },
  {
   "cell_type": "code",
   "execution_count": 12,
   "metadata": {
    "execution": {
     "iopub.execute_input": "2021-11-21T22:02:51.556852Z",
     "iopub.status.busy": "2021-11-21T22:02:51.556589Z",
     "iopub.status.idle": "2021-11-21T22:02:52.021854Z",
     "shell.execute_reply": "2021-11-21T22:02:52.021010Z",
     "shell.execute_reply.started": "2021-11-21T22:02:51.556819Z"
    }
   },
   "outputs": [
    {
     "data": {
      "image/png": "[encoded data removed]",
      "text/plain": [
       "<Figure size 432x288 with 1 Axes>"
      ]
     },
     "metadata": {
      "image/png": {
       "height": 261,
       "width": 388
      },
      "needs_background": "light"
     },
     "output_type": "display_data"
    }
   ],
   "source": [
    "sns.histplot(data= quotes_multi_label_data, x= 'n_tags');"
   ]
  },
  {
   "cell_type": "markdown",
   "metadata": {},
   "source": [
    "### Make a list of frequent tags"
   ]
  },
  {
   "cell_type": "code",
   "execution_count": 13,
   "metadata": {
    "execution": {
     "iopub.execute_input": "2021-11-21T22:02:52.023579Z",
     "iopub.status.busy": "2021-11-21T22:02:52.023315Z",
     "iopub.status.idle": "2021-11-21T22:02:52.028938Z",
     "shell.execute_reply": "2021-11-21T22:02:52.028195Z",
     "shell.execute_reply.started": "2021-11-21T22:02:52.023543Z"
    }
   },
   "outputs": [],
   "source": [
    "tag_list = [word for sent in quotes_multi_label_data['tags'] for word in sent]"
   ]
  },
  {
   "cell_type": "code",
   "execution_count": 14,
   "metadata": {
    "execution": {
     "iopub.execute_input": "2021-11-21T22:02:52.031039Z",
     "iopub.status.busy": "2021-11-21T22:02:52.030510Z",
     "iopub.status.idle": "2021-11-21T22:02:52.043033Z",
     "shell.execute_reply": "2021-11-21T22:02:52.042199Z",
     "shell.execute_reply.started": "2021-11-21T22:02:52.031000Z"
    }
   },
   "outputs": [
    {
     "data": {
      "text/plain": [
       "7997"
      ]
     },
     "execution_count": 14,
     "metadata": {},
     "output_type": "execute_result"
    }
   ],
   "source": [
    "len(tag_list)"
   ]
  },
  {
   "cell_type": "code",
   "execution_count": 15,
   "metadata": {
    "execution": {
     "iopub.execute_input": "2021-11-21T22:02:52.044990Z",
     "iopub.status.busy": "2021-11-21T22:02:52.044516Z",
     "iopub.status.idle": "2021-11-21T22:02:52.200222Z",
     "shell.execute_reply": "2021-11-21T22:02:52.199253Z",
     "shell.execute_reply.started": "2021-11-21T22:02:52.044951Z"
    }
   },
   "outputs": [
    {
     "data": {
      "text/html": [
       "<div>\n",
       "<style scoped>\n",
       "    .dataframe tbody tr th:only-of-type {\n",
       "        vertical-align: middle;\n",
       "    }\n",
       "\n",
       "    .dataframe tbody tr th {\n",
       "        vertical-align: top;\n",
       "    }\n",
       "\n",
       "    .dataframe thead th {\n",
       "        text-align: right;\n",
       "    }\n",
       "</style>\n",
       "<table border=\"1\" class=\"dataframe\">\n",
       "  <thead>\n",
       "    <tr style=\"text-align: right;\">\n",
       "      <th></th>\n",
       "      <th>0</th>\n",
       "      <th>1</th>\n",
       "      <th>2</th>\n",
       "      <th>3</th>\n",
       "      <th>4</th>\n",
       "      <th>5</th>\n",
       "      <th>6</th>\n",
       "      <th>7</th>\n",
       "      <th>8</th>\n",
       "      <th>9</th>\n",
       "      <th>10</th>\n",
       "      <th>11</th>\n",
       "      <th>12</th>\n",
       "      <th>13</th>\n",
       "      <th>14</th>\n",
       "      <th>15</th>\n",
       "      <th>16</th>\n",
       "      <th>17</th>\n",
       "      <th>18</th>\n",
       "      <th>19</th>\n",
       "    </tr>\n",
       "  </thead>\n",
       "  <tbody>\n",
       "    <tr>\n",
       "      <th>word</th>\n",
       "      <td>love</td>\n",
       "      <td>inspirational</td>\n",
       "      <td>life</td>\n",
       "      <td>humor</td>\n",
       "      <td>books</td>\n",
       "      <td>inspiration</td>\n",
       "      <td>reading</td>\n",
       "      <td>happiness</td>\n",
       "      <td>writing</td>\n",
       "      <td>inspirational-quotes</td>\n",
       "      <td>friendship</td>\n",
       "      <td>wisdom</td>\n",
       "      <td>philosophy</td>\n",
       "      <td>truth</td>\n",
       "      <td>attributed-no-source</td>\n",
       "      <td>optimism</td>\n",
       "      <td>living</td>\n",
       "      <td>life-quotes</td>\n",
       "      <td>hope</td>\n",
       "      <td>death</td>\n",
       "    </tr>\n",
       "    <tr>\n",
       "      <th>counts</th>\n",
       "      <td>319</td>\n",
       "      <td>318</td>\n",
       "      <td>294</td>\n",
       "      <td>253</td>\n",
       "      <td>136</td>\n",
       "      <td>85</td>\n",
       "      <td>84</td>\n",
       "      <td>66</td>\n",
       "      <td>66</td>\n",
       "      <td>65</td>\n",
       "      <td>63</td>\n",
       "      <td>62</td>\n",
       "      <td>59</td>\n",
       "      <td>57</td>\n",
       "      <td>53</td>\n",
       "      <td>48</td>\n",
       "      <td>48</td>\n",
       "      <td>48</td>\n",
       "      <td>46</td>\n",
       "      <td>46</td>\n",
       "    </tr>\n",
       "  </tbody>\n",
       "</table>\n",
       "</div>"
      ],
      "text/plain": [
       "          0              1     2      3      4            5        6   \\\n",
       "word    love  inspirational  life  humor  books  inspiration  reading   \n",
       "counts   319            318   294    253    136           85       84   \n",
       "\n",
       "               7        8                     9           10      11  \\\n",
       "word    happiness  writing  inspirational-quotes  friendship  wisdom   \n",
       "counts         66       66                    65          63      62   \n",
       "\n",
       "                12     13                    14        15      16  \\\n",
       "word    philosophy  truth  attributed-no-source  optimism  living   \n",
       "counts          59     57                    53        48      48   \n",
       "\n",
       "                 17    18     19  \n",
       "word    life-quotes  hope  death  \n",
       "counts           48    46     46  "
      ]
     },
     "execution_count": 15,
     "metadata": {},
     "output_type": "execute_result"
    }
   ],
   "source": [
    "freq_tags = Counter(tag_list)\n",
    "freq_tags_sorted = sorted(freq_tags.items(), key=lambda pair: pair[1], reverse=True)\n",
    "freq_tags_df = pd.DataFrame(freq_tags_sorted, columns=['word', 'counts'])\n",
    "freq_tags_df[:20].T"
   ]
  },
  {
   "cell_type": "code",
   "execution_count": 16,
   "metadata": {
    "execution": {
     "iopub.execute_input": "2021-11-21T22:02:52.202200Z",
     "iopub.status.busy": "2021-11-21T22:02:52.201690Z",
     "iopub.status.idle": "2021-11-21T22:02:52.610870Z",
     "shell.execute_reply": "2021-11-21T22:02:52.610139Z",
     "shell.execute_reply.started": "2021-11-21T22:02:52.202147Z"
    }
   },
   "outputs": [
    {
     "data": {
      "image/png": "[encoded data removed]",
      "text/plain": [
       "<Figure size 864x432 with 1 Axes>"
      ]
     },
     "metadata": {
      "image/png": {
       "height": 386,
       "width": 808
      },
      "needs_background": "light"
     },
     "output_type": "display_data"
    }
   ],
   "source": [
    "plot_freq(freq_tags_df[:20], 'Most_tags')"
   ]
  },
  {
   "cell_type": "markdown",
   "metadata": {},
   "source": [
    "# 3- Modeling"
   ]
  },
  {
   "cell_type": "markdown",
   "metadata": {},
   "source": [
    "## Simple Predecting Method"
   ]
  },
  {
   "cell_type": "markdown",
   "metadata": {},
   "source": [
    "**The simplest way to make a multi-label classification is just to take all labels in the dataset and check if the piece of a word in the exact quote is belongs to the whole labels and get this label\\s!**\n",
    "\n",
    "**The sequance:**\n",
    "* Make a list of all original unique labels.\n",
    "* Make a list of all unique labels but cleaned. \n",
    "* Make a dict with {'cleaned_tag\": 'original_tag'}.\n",
    "* After taking the quote, make a preprocess on it then check if any word belong the cleaned_labels, if it .. get the original labels from the dict.\n"
   ]
  },
  {
   "cell_type": "code",
   "execution_count": 17,
   "metadata": {
    "execution": {
     "iopub.execute_input": "2021-11-21T22:02:52.612950Z",
     "iopub.status.busy": "2021-11-21T22:02:52.612431Z",
     "iopub.status.idle": "2021-11-21T22:02:52.761183Z",
     "shell.execute_reply": "2021-11-21T22:02:52.760415Z",
     "shell.execute_reply.started": "2021-11-21T22:02:52.612910Z"
    }
   },
   "outputs": [],
   "source": [
    "all_original_tags = list(set(tag_list))\n",
    "\n",
    "# this ->\" \".join(tag for tag in most_20_tags) .. to make it like a text for working well, and split them againe\n",
    "# all_cleaned_tags = preprocess_data(\" \".join(tag for tag in all_original_tags)).split()\n",
    "all_cleaned_tags = [preprocess_data(tag) for tag in all_original_tags]\n",
    "\n",
    "# {'cleaned_tag\": 'original_tag'}\n",
    "tags_dict = dict([(preprocess_data(tag), tag) for tag in all_original_tags])\n"
   ]
  },
  {
   "cell_type": "code",
   "execution_count": 18,
   "metadata": {
    "execution": {
     "iopub.execute_input": "2021-11-21T22:02:52.762896Z",
     "iopub.status.busy": "2021-11-21T22:02:52.762629Z",
     "iopub.status.idle": "2021-11-21T22:02:52.768241Z",
     "shell.execute_reply": "2021-11-21T22:02:52.767350Z",
     "shell.execute_reply.started": "2021-11-21T22:02:52.762860Z"
    }
   },
   "outputs": [],
   "source": [
    "def simple_multi_label(text):\n",
    "    text = preprocess_data(text)\n",
    "    labels_ = []\n",
    "    for word in text.split():\n",
    "        if word in all_cleaned_tags:\n",
    "            labels_.append(tags_dict[word])\n",
    "    return labels_"
   ]
  },
  {
   "cell_type": "code",
   "execution_count": 19,
   "metadata": {
    "execution": {
     "iopub.execute_input": "2021-11-21T22:02:52.770073Z",
     "iopub.status.busy": "2021-11-21T22:02:52.769793Z",
     "iopub.status.idle": "2021-11-21T22:02:52.781467Z",
     "shell.execute_reply": "2021-11-21T22:02:52.780790Z",
     "shell.execute_reply.started": "2021-11-21T22:02:52.770037Z"
    }
   },
   "outputs": [
    {
     "name": "stdout",
     "output_type": "stream",
     "text": [
      "The predicted labels: ['love', 'read', 'books', 'plays']\n"
     ]
    }
   ],
   "source": [
    "quote = \"I love reading books and also playing football!\"\n",
    "print(f'The predicted labels: {simple_multi_label(quote)}')"
   ]
  },
  {
   "cell_type": "code",
   "execution_count": 20,
   "metadata": {
    "execution": {
     "iopub.execute_input": "2021-11-21T22:02:52.784620Z",
     "iopub.status.busy": "2021-11-21T22:02:52.784343Z",
     "iopub.status.idle": "2021-11-21T22:02:52.791797Z",
     "shell.execute_reply": "2021-11-21T22:02:52.790961Z",
     "shell.execute_reply.started": "2021-11-21T22:02:52.784595Z"
    }
   },
   "outputs": [
    {
     "name": "stdout",
     "output_type": "stream",
     "text": [
      "The predicted labels: ['friends', 'knowing', 'love']\n"
     ]
    }
   ],
   "source": [
    "quote = \"A friend is someone who knows all about you and still loves you.\"\n",
    "print(f'The predicted labels: {simple_multi_label(quote)}')"
   ]
  },
  {
   "cell_type": "markdown",
   "metadata": {},
   "source": [
    "## FuzzyWuzzy "
   ]
  },
  {
   "cell_type": "markdown",
   "metadata": {},
   "source": [
    "* Fuzzywuzzy is a Python library uses **Levenshtein Distance** to calculate the differences between sequences in a simple-to-use package.\n",
    "\n",
    "* **We will use this lib for sent similarity between the quote and top 10 tags.**\n",
    "* **ratio**, compares the entire string similarity, in order.\n",
    "* **partial_ratio**, compares partial string similarity.\n",
    "* **token_sort_ratio**, ignores word order and ignores duplicated words.\n"
   ]
  },
  {
   "cell_type": "code",
   "execution_count": 26,
   "metadata": {
    "execution": {
     "iopub.execute_input": "2021-11-21T22:02:52.798153Z",
     "iopub.status.busy": "2021-11-21T22:02:52.797476Z",
     "iopub.status.idle": "2021-11-21T22:02:52.803932Z",
     "shell.execute_reply": "2021-11-21T22:02:52.803213Z",
     "shell.execute_reply.started": "2021-11-21T22:02:52.798122Z"
    }
   },
   "outputs": [
    {
     "name": "stderr",
     "output_type": "stream",
     "text": [
      "C:\\Users\\ahmed eltabakh\\anaconda3\\lib\\site-packages\\fuzzywuzzy\\fuzz.py:11: UserWarning: Using slow pure-python SequenceMatcher. Install python-Levenshtein to remove this warning\n",
      "  warnings.warn('Using slow pure-python SequenceMatcher. Install python-Levenshtein to remove this warning')\n"
     ]
    }
   ],
   "source": [
    "from fuzzywuzzy import fuzz"
   ]
  },
  {
   "cell_type": "code",
   "execution_count": 27,
   "metadata": {
    "execution": {
     "iopub.execute_input": "2021-11-21T22:02:52.807534Z",
     "iopub.status.busy": "2021-11-21T22:02:52.805190Z",
     "iopub.status.idle": "2021-11-21T22:02:52.815115Z",
     "shell.execute_reply": "2021-11-21T22:02:52.814109Z",
     "shell.execute_reply.started": "2021-11-21T22:02:52.807414Z"
    }
   },
   "outputs": [
    {
     "name": "stdout",
     "output_type": "stream",
     "text": [
      "You know you're in love when you can't fall asleep because reality is finally better than your dreams.\n",
      "['attributed-no-source', 'dreams', 'love', 'reality', 'sleep']\n"
     ]
    }
   ],
   "source": [
    "q1 = quotes_multi_label_data['quotes'][7]\n",
    "t1 = quotes_multi_label_data['tags'][7]\n",
    "print(q1)\n",
    "print(t1)"
   ]
  },
  {
   "cell_type": "code",
   "execution_count": 28,
   "metadata": {
    "execution": {
     "iopub.execute_input": "2021-11-21T22:02:52.817219Z",
     "iopub.status.busy": "2021-11-21T22:02:52.816666Z",
     "iopub.status.idle": "2021-11-21T22:02:52.826961Z",
     "shell.execute_reply": "2021-11-21T22:02:52.826216Z",
     "shell.execute_reply.started": "2021-11-21T22:02:52.817154Z"
    }
   },
   "outputs": [
    {
     "data": {
      "text/plain": [
       "['love',\n",
       " 'inspirational',\n",
       " 'life',\n",
       " 'humor',\n",
       " 'books',\n",
       " 'inspiration',\n",
       " 'reading',\n",
       " 'happiness',\n",
       " 'writing',\n",
       " 'inspirational-quotes',\n",
       " 'friendship',\n",
       " 'wisdom',\n",
       " 'philosophy',\n",
       " 'truth',\n",
       " 'attributed-no-source',\n",
       " 'optimism',\n",
       " 'living',\n",
       " 'life-quotes',\n",
       " 'hope',\n",
       " 'death']"
      ]
     },
     "execution_count": 28,
     "metadata": {},
     "output_type": "execute_result"
    }
   ],
   "source": [
    "top_20_tag = list(freq_tags_df['word'][:20])\n",
    "top_20_tag"
   ]
  },
  {
   "cell_type": "code",
   "execution_count": 29,
   "metadata": {
    "execution": {
     "iopub.execute_input": "2021-11-21T22:02:52.830174Z",
     "iopub.status.busy": "2021-11-21T22:02:52.829498Z",
     "iopub.status.idle": "2021-11-21T22:02:52.837004Z",
     "shell.execute_reply": "2021-11-21T22:02:52.836117Z",
     "shell.execute_reply.started": "2021-11-21T22:02:52.830134Z"
    }
   },
   "outputs": [
    {
     "data": {
      "text/plain": [
       "['love',\n",
       " 'inspirational',\n",
       " 'life',\n",
       " 'humor',\n",
       " 'books',\n",
       " 'inspiration',\n",
       " 'reading',\n",
       " 'happiness',\n",
       " 'writing',\n",
       " 'inspirational-quotes']"
      ]
     },
     "execution_count": 29,
     "metadata": {},
     "output_type": "execute_result"
    }
   ],
   "source": [
    "# we just need at most top 10 tags\n",
    "top_10_tag = top_20_tag[:10]\n",
    "top_10_tag"
   ]
  },
  {
   "cell_type": "markdown",
   "metadata": {},
   "source": [
    "**fuzz.ratio**"
   ]
  },
  {
   "cell_type": "code",
   "execution_count": 31,
   "metadata": {
    "execution": {
     "iopub.execute_input": "2021-11-21T22:02:52.838588Z",
     "iopub.status.busy": "2021-11-21T22:02:52.838111Z",
     "iopub.status.idle": "2021-11-21T22:02:52.847013Z",
     "shell.execute_reply": "2021-11-21T22:02:52.846282Z",
     "shell.execute_reply.started": "2021-11-21T22:02:52.838551Z"
    }
   },
   "outputs": [
    {
     "name": "stdout",
     "output_type": "stream",
     "text": [
      "['inspirational-quotes', 'inspirational', 'reading', 'happiness', 'love']\n"
     ]
    }
   ],
   "source": [
    "tags_scores = []\n",
    "sim_tags = []\n",
    "for tag in top_10_tag:\n",
    "    score = fuzz.ratio(q1,tag)\n",
    "    tags_scores.append((score, tag))\n",
    "    \n",
    "tags_scores.sort(reverse = True)\n",
    "# print(tags_scores)\n",
    "for item in tags_scores:\n",
    "    sim_tags.append(item[1])\n",
    "print(sim_tags[:5])"
   ]
  },
  {
   "cell_type": "markdown",
   "metadata": {},
   "source": [
    "**fuzz.partial_ratio**"
   ]
  },
  {
   "cell_type": "code",
   "execution_count": 32,
   "metadata": {
    "execution": {
     "iopub.execute_input": "2021-11-21T22:02:52.848738Z",
     "iopub.status.busy": "2021-11-21T22:02:52.848324Z",
     "iopub.status.idle": "2021-11-21T22:02:52.858424Z",
     "shell.execute_reply": "2021-11-21T22:02:52.857503Z",
     "shell.execute_reply.started": "2021-11-21T22:02:52.848701Z"
    }
   },
   "outputs": [
    {
     "name": "stdout",
     "output_type": "stream",
     "text": [
      "['love', 'reading', 'life', 'inspirational', 'writing']\n"
     ]
    }
   ],
   "source": [
    "tags_scores = []\n",
    "sim_tags = []\n",
    "for tag in top_10_tag:\n",
    "    score = fuzz.partial_ratio(q1,tag)\n",
    "    tags_scores.append((score, tag))\n",
    "    \n",
    "tags_scores.sort(reverse = True)\n",
    "# print(tags_scores)\n",
    "for item in tags_scores:\n",
    "    sim_tags.append(item[1])\n",
    "print(sim_tags[:5])"
   ]
  },
  {
   "cell_type": "markdown",
   "metadata": {},
   "source": [
    "**fuzz.token_sort_ratio**"
   ]
  },
  {
   "cell_type": "code",
   "execution_count": 34,
   "metadata": {
    "execution": {
     "iopub.execute_input": "2021-11-21T22:02:52.860360Z",
     "iopub.status.busy": "2021-11-21T22:02:52.859833Z",
     "iopub.status.idle": "2021-11-21T22:02:52.868115Z",
     "shell.execute_reply": "2021-11-21T22:02:52.867298Z",
     "shell.execute_reply.started": "2021-11-21T22:02:52.860322Z"
    }
   },
   "outputs": [
    {
     "name": "stdout",
     "output_type": "stream",
     "text": [
      "['inspirational-quotes', 'inspirational', 'reading', 'inspiration', 'happiness']\n"
     ]
    }
   ],
   "source": [
    "tags_scores = []\n",
    "sim_tags = []\n",
    "for tag in top_10_tag:\n",
    "    score = fuzz.token_sort_ratio(q1,tag)\n",
    "    tags_scores.append((score, tag))\n",
    "    \n",
    "tags_scores.sort(reverse = True)\n",
    "# print(tags_scores)\n",
    "for item in tags_scores:\n",
    "    sim_tags.append(item[1])\n",
    "print(sim_tags[:5])"
   ]
  },
  {
   "cell_type": "markdown",
   "metadata": {},
   "source": [
    "**By the experimental i'll use `partial_ratio`**"
   ]
  },
  {
   "cell_type": "code",
   "execution_count": 35,
   "metadata": {
    "execution": {
     "iopub.execute_input": "2021-11-21T22:02:52.869972Z",
     "iopub.status.busy": "2021-11-21T22:02:52.869377Z",
     "iopub.status.idle": "2021-11-21T22:02:52.876888Z",
     "shell.execute_reply": "2021-11-21T22:02:52.876121Z",
     "shell.execute_reply.started": "2021-11-21T22:02:52.869935Z"
    }
   },
   "outputs": [],
   "source": [
    "def fuzzywuzzy_sim(q):\n",
    "    tags_scores = []\n",
    "    sim_tags = []\n",
    "    for tag in top_10_tag:\n",
    "        score = fuzz.partial_ratio(q,tag)\n",
    "        tags_scores.append((score, tag))\n",
    "\n",
    "    tags_scores.sort(reverse = True)\n",
    "    for item in tags_scores:\n",
    "        sim_tags.append(item[1])\n",
    "    return sim_tags[:5]"
   ]
  },
  {
   "cell_type": "code",
   "execution_count": 36,
   "metadata": {
    "execution": {
     "iopub.execute_input": "2021-11-21T22:02:52.878823Z",
     "iopub.status.busy": "2021-11-21T22:02:52.878275Z",
     "iopub.status.idle": "2021-11-21T22:02:52.886756Z",
     "shell.execute_reply": "2021-11-21T22:02:52.885815Z",
     "shell.execute_reply.started": "2021-11-21T22:02:52.878786Z"
    }
   },
   "outputs": [
    {
     "name": "stdout",
     "output_type": "stream",
     "text": [
      "The predicted labels: ['love', 'reading', 'humor', 'books', 'inspirational-quotes']\n"
     ]
    }
   ],
   "source": [
    "q = \"If you don't belong, don't be long!\"\n",
    "print(f'The predicted labels: {fuzzywuzzy_sim(q)}')"
   ]
  },
  {
   "cell_type": "code",
   "execution_count": 37,
   "metadata": {
    "execution": {
     "iopub.execute_input": "2021-11-21T22:02:52.888854Z",
     "iopub.status.busy": "2021-11-21T22:02:52.888353Z",
     "iopub.status.idle": "2021-11-21T22:02:52.896311Z",
     "shell.execute_reply": "2021-11-21T22:02:52.895384Z",
     "shell.execute_reply.started": "2021-11-21T22:02:52.888812Z"
    }
   },
   "outputs": [
    {
     "name": "stdout",
     "output_type": "stream",
     "text": [
      "The predicted labels: ['love', 'inspiration', 'writing', 'reading', 'humor']\n"
     ]
    }
   ],
   "source": [
    "q = \"We always needs the close people who says you are on the road, just keep going and don’t turn around.\"\n",
    "print(f'The predicted labels: {fuzzywuzzy_sim(q)}')"
   ]
  },
  {
   "cell_type": "code",
   "execution_count": 38,
   "metadata": {
    "execution": {
     "iopub.execute_input": "2021-11-21T22:02:52.898431Z",
     "iopub.status.busy": "2021-11-21T22:02:52.897593Z",
     "iopub.status.idle": "2021-11-21T22:02:52.904510Z",
     "shell.execute_reply": "2021-11-21T22:02:52.903615Z",
     "shell.execute_reply.started": "2021-11-21T22:02:52.898391Z"
    }
   },
   "outputs": [
    {
     "name": "stdout",
     "output_type": "stream",
     "text": [
      "The predicted labels: ['inspiration', 'love', 'inspirational', 'inspirational-quotes', 'reading']\n"
     ]
    }
   ],
   "source": [
    "q = \"Even superman sometimes needed to superwoman soul!\"\n",
    "print(f'The predicted labels: {fuzzywuzzy_sim(q)}')"
   ]
  },
  {
   "cell_type": "markdown",
   "metadata": {},
   "source": [
    "## Machine Learning Model"
   ]
  },
  {
   "cell_type": "markdown",
   "metadata": {},
   "source": [
    "### Custimize tags"
   ]
  },
  {
   "cell_type": "markdown",
   "metadata": {},
   "source": [
    "Makes a list of top 10 tags and iterate over each original tags, if any one from the top_10 add it."
   ]
  },
  {
   "cell_type": "markdown",
   "metadata": {},
   "source": [
    "Here we found 3 tags have the same tag!\n",
    "[inspirational-quotes, inspirational, inspiration], we will just keep on of them 'inspirational'"
   ]
  },
  {
   "cell_type": "code",
   "execution_count": 39,
   "metadata": {
    "execution": {
     "iopub.execute_input": "2021-11-21T22:02:52.906826Z",
     "iopub.status.busy": "2021-11-21T22:02:52.906008Z",
     "iopub.status.idle": "2021-11-21T22:02:52.915737Z",
     "shell.execute_reply": "2021-11-21T22:02:52.914854Z",
     "shell.execute_reply.started": "2021-11-21T22:02:52.906603Z"
    }
   },
   "outputs": [
    {
     "data": {
      "text/plain": [
       "(True, True, True)"
      ]
     },
     "execution_count": 39,
     "metadata": {},
     "output_type": "execute_result"
    }
   ],
   "source": [
    "'inspirational' in top_20_tag, 'inspiration' in top_20_tag, 'inspirational-quotes' in top_20_tag"
   ]
  },
  {
   "cell_type": "code",
   "execution_count": 40,
   "metadata": {
    "execution": {
     "iopub.execute_input": "2021-11-21T22:02:52.917811Z",
     "iopub.status.busy": "2021-11-21T22:02:52.917277Z",
     "iopub.status.idle": "2021-11-21T22:02:52.924389Z",
     "shell.execute_reply": "2021-11-21T22:02:52.923545Z",
     "shell.execute_reply.started": "2021-11-21T22:02:52.917775Z"
    }
   },
   "outputs": [
    {
     "data": {
      "text/plain": [
       "(None, None)"
      ]
     },
     "execution_count": 40,
     "metadata": {},
     "output_type": "execute_result"
    }
   ],
   "source": [
    "top_20_tag.remove('inspiration'), top_20_tag.remove('inspirational-quotes')"
   ]
  },
  {
   "cell_type": "code",
   "execution_count": 41,
   "metadata": {
    "execution": {
     "iopub.execute_input": "2021-11-21T22:02:52.926595Z",
     "iopub.status.busy": "2021-11-21T22:02:52.925951Z",
     "iopub.status.idle": "2021-11-21T22:02:52.933267Z",
     "shell.execute_reply": "2021-11-21T22:02:52.932469Z",
     "shell.execute_reply.started": "2021-11-21T22:02:52.926553Z"
    }
   },
   "outputs": [
    {
     "data": {
      "text/plain": [
       "(True, False, False)"
      ]
     },
     "execution_count": 41,
     "metadata": {},
     "output_type": "execute_result"
    }
   ],
   "source": [
    "'inspirational' in top_20_tag, 'inspiration' in top_20_tag, 'inspirational-quotes' in top_20_tag"
   ]
  },
  {
   "cell_type": "code",
   "execution_count": 45,
   "metadata": {
    "execution": {
     "iopub.execute_input": "2021-11-21T22:02:52.935436Z",
     "iopub.status.busy": "2021-11-21T22:02:52.934838Z",
     "iopub.status.idle": "2021-11-21T22:02:52.942738Z",
     "shell.execute_reply": "2021-11-21T22:02:52.941927Z",
     "shell.execute_reply.started": "2021-11-21T22:02:52.935392Z"
    }
   },
   "outputs": [],
   "source": [
    "def customize_tags(tags):\n",
    "    \n",
    "    '''\n",
    "        Here we will make a custome list of tags , if the original list of tags <= 5 take all original tags\n",
    "        else expand it to be of len 5\n",
    "    '''   \n",
    "    tmp_list = [] \n",
    "    if len(tags) <= 5:\n",
    "        return tags\n",
    "    tmp_list = list(set(tags) & set(top_10_tag)) \n",
    "    tmp_list += top_10_tag[:2]\n",
    "    tmp_list = list(set(tmp_list))\n",
    "    return tmp_list\n",
    "\n",
    "\n",
    "def make_top_5_tags(li):\n",
    "    '''\n",
    "        Make a random 5 tags from top 10 tags, to make it easy for modeling.\n",
    "        Just take random 5 tags from the top 10 tags, and most of of top 10 tags in each row.\n",
    "    '''\n",
    "    return random.sample(top_10_tag, 5)"
   ]
  },
  {
   "cell_type": "code",
   "execution_count": 46,
   "metadata": {
    "execution": {
     "iopub.execute_input": "2021-11-21T22:02:52.944881Z",
     "iopub.status.busy": "2021-11-21T22:02:52.944375Z",
     "iopub.status.idle": "2021-11-21T22:02:52.995013Z",
     "shell.execute_reply": "2021-11-21T22:02:52.994170Z",
     "shell.execute_reply.started": "2021-11-21T22:02:52.944844Z"
    }
   },
   "outputs": [
    {
     "data": {
      "text/html": [
       "<div>\n",
       "<style scoped>\n",
       "    .dataframe tbody tr th:only-of-type {\n",
       "        vertical-align: middle;\n",
       "    }\n",
       "\n",
       "    .dataframe tbody tr th {\n",
       "        vertical-align: top;\n",
       "    }\n",
       "\n",
       "    .dataframe thead th {\n",
       "        text-align: right;\n",
       "    }\n",
       "</style>\n",
       "<table border=\"1\" class=\"dataframe\">\n",
       "  <thead>\n",
       "    <tr style=\"text-align: right;\">\n",
       "      <th></th>\n",
       "      <th>quotes</th>\n",
       "      <th>tags</th>\n",
       "      <th>clean_text</th>\n",
       "      <th>n_tags</th>\n",
       "      <th>customize_tags</th>\n",
       "      <th>customize_top_5_tags</th>\n",
       "    </tr>\n",
       "  </thead>\n",
       "  <tbody>\n",
       "    <tr>\n",
       "      <th>0</th>\n",
       "      <td>Be yourself; everyone else is already taken.</td>\n",
       "      <td>[attributed-no-source, be-yourself, honesty, i...</td>\n",
       "      <td>everyon els alreadi taken</td>\n",
       "      <td>5</td>\n",
       "      <td>[attributed-no-source, be-yourself, honesty, i...</td>\n",
       "      <td>[reading, love, life, humor, inspirational]</td>\n",
       "    </tr>\n",
       "    <tr>\n",
       "      <th>1</th>\n",
       "      <td>I'm selfish, impatient and a little insecure. ...</td>\n",
       "      <td>[attributed-no-source, best, life, love, mista...</td>\n",
       "      <td>im selfish impati littl insecur make mistak co...</td>\n",
       "      <td>8</td>\n",
       "      <td>[inspirational, love, life]</td>\n",
       "      <td>[love, life, inspirational, humor, happiness]</td>\n",
       "    </tr>\n",
       "    <tr>\n",
       "      <th>2</th>\n",
       "      <td>Two things are infinite: the universe and huma...</td>\n",
       "      <td>[attributed-no-source, human-nature, humor, in...</td>\n",
       "      <td>two thing infinit univers human stupid im sure...</td>\n",
       "      <td>8</td>\n",
       "      <td>[inspirational, humor, love]</td>\n",
       "      <td>[inspiration, love, reading, inspirational, life]</td>\n",
       "    </tr>\n",
       "    <tr>\n",
       "      <th>3</th>\n",
       "      <td>So many books, so little time.</td>\n",
       "      <td>[books, humor]</td>\n",
       "      <td>mani book littl time</td>\n",
       "      <td>2</td>\n",
       "      <td>[books, humor]</td>\n",
       "      <td>[love, inspiration, books, reading, writing]</td>\n",
       "    </tr>\n",
       "    <tr>\n",
       "      <th>4</th>\n",
       "      <td>A room without books is like a body without a ...</td>\n",
       "      <td>[attributed-no-source, books, simile, soul]</td>\n",
       "      <td>room without book like bodi without soul</td>\n",
       "      <td>4</td>\n",
       "      <td>[attributed-no-source, books, simile, soul]</td>\n",
       "      <td>[books, inspirational, writing, life, humor]</td>\n",
       "    </tr>\n",
       "    <tr>\n",
       "      <th>5</th>\n",
       "      <td>Be who you are and say what you feel, because ...</td>\n",
       "      <td>[ataraxy, be-yourself, confidence, fitting-in,...</td>\n",
       "      <td>say feel mind dont matter matter dont mind</td>\n",
       "      <td>7</td>\n",
       "      <td>[inspirational, love]</td>\n",
       "      <td>[humor, inspirational-quotes, writing, books, ...</td>\n",
       "    </tr>\n",
       "    <tr>\n",
       "      <th>6</th>\n",
       "      <td>You've gotta dance like there's nobody watchin...</td>\n",
       "      <td>[dance, heaven, hurt, inspirational, life, lov...</td>\n",
       "      <td>youv gotta danc like there nobodi watchinglov ...</td>\n",
       "      <td>7</td>\n",
       "      <td>[inspirational, love, life]</td>\n",
       "      <td>[writing, inspirational, books, reading, happi...</td>\n",
       "    </tr>\n",
       "    <tr>\n",
       "      <th>7</th>\n",
       "      <td>You know you're in love when you can't fall as...</td>\n",
       "      <td>[attributed-no-source, dreams, love, reality, ...</td>\n",
       "      <td>know your love cant fall asleep realiti final ...</td>\n",
       "      <td>5</td>\n",
       "      <td>[attributed-no-source, dreams, love, reality, ...</td>\n",
       "      <td>[humor, life, love, reading, inspirational-quo...</td>\n",
       "    </tr>\n",
       "    <tr>\n",
       "      <th>8</th>\n",
       "      <td>You only live once, but if you do it right, on...</td>\n",
       "      <td>[humor, life]</td>\n",
       "      <td>live right enough</td>\n",
       "      <td>2</td>\n",
       "      <td>[humor, life]</td>\n",
       "      <td>[life, inspirational, love, reading, happiness]</td>\n",
       "    </tr>\n",
       "    <tr>\n",
       "      <th>9</th>\n",
       "      <td>Be the change that you wish to see in the world.</td>\n",
       "      <td>[action, change, inspirational, philosophy, wish]</td>\n",
       "      <td>chang wish see world</td>\n",
       "      <td>5</td>\n",
       "      <td>[action, change, inspirational, philosophy, wish]</td>\n",
       "      <td>[reading, life, inspirational-quotes, books, h...</td>\n",
       "    </tr>\n",
       "  </tbody>\n",
       "</table>\n",
       "</div>"
      ],
      "text/plain": [
       "                                              quotes  \\\n",
       "0       Be yourself; everyone else is already taken.   \n",
       "1  I'm selfish, impatient and a little insecure. ...   \n",
       "2  Two things are infinite: the universe and huma...   \n",
       "3                     So many books, so little time.   \n",
       "4  A room without books is like a body without a ...   \n",
       "5  Be who you are and say what you feel, because ...   \n",
       "6  You've gotta dance like there's nobody watchin...   \n",
       "7  You know you're in love when you can't fall as...   \n",
       "8  You only live once, but if you do it right, on...   \n",
       "9   Be the change that you wish to see in the world.   \n",
       "\n",
       "                                                tags  \\\n",
       "0  [attributed-no-source, be-yourself, honesty, i...   \n",
       "1  [attributed-no-source, best, life, love, mista...   \n",
       "2  [attributed-no-source, human-nature, humor, in...   \n",
       "3                                     [books, humor]   \n",
       "4        [attributed-no-source, books, simile, soul]   \n",
       "5  [ataraxy, be-yourself, confidence, fitting-in,...   \n",
       "6  [dance, heaven, hurt, inspirational, life, lov...   \n",
       "7  [attributed-no-source, dreams, love, reality, ...   \n",
       "8                                      [humor, life]   \n",
       "9  [action, change, inspirational, philosophy, wish]   \n",
       "\n",
       "                                          clean_text  n_tags  \\\n",
       "0                          everyon els alreadi taken       5   \n",
       "1  im selfish impati littl insecur make mistak co...       8   \n",
       "2  two thing infinit univers human stupid im sure...       8   \n",
       "3                               mani book littl time       2   \n",
       "4           room without book like bodi without soul       4   \n",
       "5         say feel mind dont matter matter dont mind       7   \n",
       "6  youv gotta danc like there nobodi watchinglov ...       7   \n",
       "7  know your love cant fall asleep realiti final ...       5   \n",
       "8                                  live right enough       2   \n",
       "9                               chang wish see world       5   \n",
       "\n",
       "                                      customize_tags  \\\n",
       "0  [attributed-no-source, be-yourself, honesty, i...   \n",
       "1                        [inspirational, love, life]   \n",
       "2                       [inspirational, humor, love]   \n",
       "3                                     [books, humor]   \n",
       "4        [attributed-no-source, books, simile, soul]   \n",
       "5                              [inspirational, love]   \n",
       "6                        [inspirational, love, life]   \n",
       "7  [attributed-no-source, dreams, love, reality, ...   \n",
       "8                                      [humor, life]   \n",
       "9  [action, change, inspirational, philosophy, wish]   \n",
       "\n",
       "                                customize_top_5_tags  \n",
       "0        [reading, love, life, humor, inspirational]  \n",
       "1      [love, life, inspirational, humor, happiness]  \n",
       "2  [inspiration, love, reading, inspirational, life]  \n",
       "3       [love, inspiration, books, reading, writing]  \n",
       "4       [books, inspirational, writing, life, humor]  \n",
       "5  [humor, inspirational-quotes, writing, books, ...  \n",
       "6  [writing, inspirational, books, reading, happi...  \n",
       "7  [humor, life, love, reading, inspirational-quo...  \n",
       "8    [life, inspirational, love, reading, happiness]  \n",
       "9  [reading, life, inspirational-quotes, books, h...  "
      ]
     },
     "execution_count": 46,
     "metadata": {},
     "output_type": "execute_result"
    }
   ],
   "source": [
    "quotes_multi_label_data['customize_tags'] = quotes_multi_label_data['tags'].apply(customize_tags)\n",
    "quotes_multi_label_data['customize_top_5_tags'] = quotes_multi_label_data['tags'].apply(lambda tags: random.sample(top_10_tag,5))\n",
    "quotes_multi_label_data.head(10)"
   ]
  },
  {
   "cell_type": "code",
   "execution_count": 47,
   "metadata": {
    "execution": {
     "iopub.execute_input": "2021-11-21T22:02:52.996585Z",
     "iopub.status.busy": "2021-11-21T22:02:52.996297Z",
     "iopub.status.idle": "2021-11-21T22:02:53.003190Z",
     "shell.execute_reply": "2021-11-21T22:02:53.002419Z",
     "shell.execute_reply.started": "2021-11-21T22:02:52.996553Z"
    }
   },
   "outputs": [
    {
     "data": {
      "text/plain": [
       "(['attributed-no-source',\n",
       "  'best',\n",
       "  'life',\n",
       "  'love',\n",
       "  'mistakes',\n",
       "  'out-of-control',\n",
       "  'truth',\n",
       "  'worst'],\n",
       " ['inspirational', 'love', 'life'],\n",
       " ['love', 'life', 'inspirational', 'humor', 'happiness'])"
      ]
     },
     "execution_count": 47,
     "metadata": {},
     "output_type": "execute_result"
    }
   ],
   "source": [
    "# test the function\n",
    "quotes_multi_label_data['tags'][1],quotes_multi_label_data['customize_tags'][1],quotes_multi_label_data['customize_top_5_tags'][1]"
   ]
  },
  {
   "cell_type": "code",
   "execution_count": 48,
   "metadata": {
    "execution": {
     "iopub.execute_input": "2021-11-21T22:02:53.005364Z",
     "iopub.status.busy": "2021-11-21T22:02:53.004748Z",
     "iopub.status.idle": "2021-11-21T22:02:53.012554Z",
     "shell.execute_reply": "2021-11-21T22:02:53.011549Z",
     "shell.execute_reply.started": "2021-11-21T22:02:53.005303Z"
    }
   },
   "outputs": [
    {
     "data": {
      "text/plain": [
       "(['books', 'humor'],\n",
       " ['books', 'humor'],\n",
       " ['love', 'inspiration', 'books', 'reading', 'writing'])"
      ]
     },
     "execution_count": 48,
     "metadata": {},
     "output_type": "execute_result"
    }
   ],
   "source": [
    "# test the function\n",
    "quotes_multi_label_data['tags'][3], quotes_multi_label_data['customize_tags'][3],quotes_multi_label_data['customize_top_5_tags'][3]"
   ]
  },
  {
   "cell_type": "code",
   "execution_count": 52,
   "metadata": {
    "execution": {
     "iopub.execute_input": "2021-11-21T22:02:53.014866Z",
     "iopub.status.busy": "2021-11-21T22:02:53.014274Z",
     "iopub.status.idle": "2021-11-21T22:02:53.026475Z",
     "shell.execute_reply": "2021-11-21T22:02:53.025715Z",
     "shell.execute_reply.started": "2021-11-21T22:02:53.014697Z"
    }
   },
   "outputs": [],
   "source": [
    "# one hot encoding for labels\n",
    "multi_label = MultiLabelBinarizer()\n",
    "y = multi_label.fit_transform(quotes_multi_label_data['customize_top_5_tags'])"
   ]
  },
  {
   "cell_type": "code",
   "execution_count": 53,
   "metadata": {
    "execution": {
     "iopub.execute_input": "2021-11-21T22:02:53.028310Z",
     "iopub.status.busy": "2021-11-21T22:02:53.027820Z",
     "iopub.status.idle": "2021-11-21T22:02:53.035782Z",
     "shell.execute_reply": "2021-11-21T22:02:53.035060Z",
     "shell.execute_reply.started": "2021-11-21T22:02:53.028273Z"
    }
   },
   "outputs": [
    {
     "data": {
      "text/plain": [
       "array(['books', 'happiness', 'humor', 'inspiration', 'inspirational',\n",
       "       'inspirational-quotes', 'life', 'love', 'reading', 'writing'],\n",
       "      dtype=object)"
      ]
     },
     "execution_count": 53,
     "metadata": {},
     "output_type": "execute_result"
    }
   ],
   "source": [
    "multi_label.classes_"
   ]
  },
  {
   "cell_type": "code",
   "execution_count": 54,
   "metadata": {
    "execution": {
     "iopub.execute_input": "2021-11-21T22:02:53.037851Z",
     "iopub.status.busy": "2021-11-21T22:02:53.037286Z",
     "iopub.status.idle": "2021-11-21T22:02:53.054877Z",
     "shell.execute_reply": "2021-11-21T22:02:53.054221Z",
     "shell.execute_reply.started": "2021-11-21T22:02:53.037815Z"
    }
   },
   "outputs": [
    {
     "data": {
      "text/html": [
       "<div>\n",
       "<style scoped>\n",
       "    .dataframe tbody tr th:only-of-type {\n",
       "        vertical-align: middle;\n",
       "    }\n",
       "\n",
       "    .dataframe tbody tr th {\n",
       "        vertical-align: top;\n",
       "    }\n",
       "\n",
       "    .dataframe thead th {\n",
       "        text-align: right;\n",
       "    }\n",
       "</style>\n",
       "<table border=\"1\" class=\"dataframe\">\n",
       "  <thead>\n",
       "    <tr style=\"text-align: right;\">\n",
       "      <th></th>\n",
       "      <th>books</th>\n",
       "      <th>happiness</th>\n",
       "      <th>humor</th>\n",
       "      <th>inspiration</th>\n",
       "      <th>inspirational</th>\n",
       "      <th>inspirational-quotes</th>\n",
       "      <th>life</th>\n",
       "      <th>love</th>\n",
       "      <th>reading</th>\n",
       "      <th>writing</th>\n",
       "    </tr>\n",
       "  </thead>\n",
       "  <tbody>\n",
       "    <tr>\n",
       "      <th>0</th>\n",
       "      <td>0</td>\n",
       "      <td>0</td>\n",
       "      <td>1</td>\n",
       "      <td>0</td>\n",
       "      <td>1</td>\n",
       "      <td>0</td>\n",
       "      <td>1</td>\n",
       "      <td>1</td>\n",
       "      <td>1</td>\n",
       "      <td>0</td>\n",
       "    </tr>\n",
       "    <tr>\n",
       "      <th>1</th>\n",
       "      <td>0</td>\n",
       "      <td>1</td>\n",
       "      <td>1</td>\n",
       "      <td>0</td>\n",
       "      <td>1</td>\n",
       "      <td>0</td>\n",
       "      <td>1</td>\n",
       "      <td>1</td>\n",
       "      <td>0</td>\n",
       "      <td>0</td>\n",
       "    </tr>\n",
       "    <tr>\n",
       "      <th>2</th>\n",
       "      <td>0</td>\n",
       "      <td>0</td>\n",
       "      <td>0</td>\n",
       "      <td>1</td>\n",
       "      <td>1</td>\n",
       "      <td>0</td>\n",
       "      <td>1</td>\n",
       "      <td>1</td>\n",
       "      <td>1</td>\n",
       "      <td>0</td>\n",
       "    </tr>\n",
       "    <tr>\n",
       "      <th>3</th>\n",
       "      <td>1</td>\n",
       "      <td>0</td>\n",
       "      <td>0</td>\n",
       "      <td>1</td>\n",
       "      <td>0</td>\n",
       "      <td>0</td>\n",
       "      <td>0</td>\n",
       "      <td>1</td>\n",
       "      <td>1</td>\n",
       "      <td>1</td>\n",
       "    </tr>\n",
       "    <tr>\n",
       "      <th>4</th>\n",
       "      <td>1</td>\n",
       "      <td>0</td>\n",
       "      <td>1</td>\n",
       "      <td>0</td>\n",
       "      <td>1</td>\n",
       "      <td>0</td>\n",
       "      <td>1</td>\n",
       "      <td>0</td>\n",
       "      <td>0</td>\n",
       "      <td>1</td>\n",
       "    </tr>\n",
       "    <tr>\n",
       "      <th>...</th>\n",
       "      <td>...</td>\n",
       "      <td>...</td>\n",
       "      <td>...</td>\n",
       "      <td>...</td>\n",
       "      <td>...</td>\n",
       "      <td>...</td>\n",
       "      <td>...</td>\n",
       "      <td>...</td>\n",
       "      <td>...</td>\n",
       "      <td>...</td>\n",
       "    </tr>\n",
       "    <tr>\n",
       "      <th>2476</th>\n",
       "      <td>0</td>\n",
       "      <td>0</td>\n",
       "      <td>1</td>\n",
       "      <td>1</td>\n",
       "      <td>0</td>\n",
       "      <td>1</td>\n",
       "      <td>0</td>\n",
       "      <td>1</td>\n",
       "      <td>1</td>\n",
       "      <td>0</td>\n",
       "    </tr>\n",
       "    <tr>\n",
       "      <th>2477</th>\n",
       "      <td>1</td>\n",
       "      <td>0</td>\n",
       "      <td>0</td>\n",
       "      <td>1</td>\n",
       "      <td>0</td>\n",
       "      <td>0</td>\n",
       "      <td>1</td>\n",
       "      <td>1</td>\n",
       "      <td>1</td>\n",
       "      <td>0</td>\n",
       "    </tr>\n",
       "    <tr>\n",
       "      <th>2478</th>\n",
       "      <td>0</td>\n",
       "      <td>1</td>\n",
       "      <td>1</td>\n",
       "      <td>1</td>\n",
       "      <td>0</td>\n",
       "      <td>0</td>\n",
       "      <td>0</td>\n",
       "      <td>0</td>\n",
       "      <td>1</td>\n",
       "      <td>1</td>\n",
       "    </tr>\n",
       "    <tr>\n",
       "      <th>2479</th>\n",
       "      <td>1</td>\n",
       "      <td>0</td>\n",
       "      <td>1</td>\n",
       "      <td>0</td>\n",
       "      <td>0</td>\n",
       "      <td>0</td>\n",
       "      <td>0</td>\n",
       "      <td>1</td>\n",
       "      <td>1</td>\n",
       "      <td>1</td>\n",
       "    </tr>\n",
       "    <tr>\n",
       "      <th>2480</th>\n",
       "      <td>1</td>\n",
       "      <td>0</td>\n",
       "      <td>0</td>\n",
       "      <td>1</td>\n",
       "      <td>0</td>\n",
       "      <td>0</td>\n",
       "      <td>1</td>\n",
       "      <td>1</td>\n",
       "      <td>1</td>\n",
       "      <td>0</td>\n",
       "    </tr>\n",
       "  </tbody>\n",
       "</table>\n",
       "<p>2481 rows × 10 columns</p>\n",
       "</div>"
      ],
      "text/plain": [
       "      books  happiness  humor  inspiration  inspirational  \\\n",
       "0         0          0      1            0              1   \n",
       "1         0          1      1            0              1   \n",
       "2         0          0      0            1              1   \n",
       "3         1          0      0            1              0   \n",
       "4         1          0      1            0              1   \n",
       "...     ...        ...    ...          ...            ...   \n",
       "2476      0          0      1            1              0   \n",
       "2477      1          0      0            1              0   \n",
       "2478      0          1      1            1              0   \n",
       "2479      1          0      1            0              0   \n",
       "2480      1          0      0            1              0   \n",
       "\n",
       "      inspirational-quotes  life  love  reading  writing  \n",
       "0                        0     1     1        1        0  \n",
       "1                        0     1     1        0        0  \n",
       "2                        0     1     1        1        0  \n",
       "3                        0     0     1        1        1  \n",
       "4                        0     1     0        0        1  \n",
       "...                    ...   ...   ...      ...      ...  \n",
       "2476                     1     0     1        1        0  \n",
       "2477                     0     1     1        1        0  \n",
       "2478                     0     0     0        1        1  \n",
       "2479                     0     0     1        1        1  \n",
       "2480                     0     1     1        1        0  \n",
       "\n",
       "[2481 rows x 10 columns]"
      ]
     },
     "execution_count": 54,
     "metadata": {},
     "output_type": "execute_result"
    }
   ],
   "source": [
    "pd.DataFrame(y, columns= multi_label.classes_)"
   ]
  },
  {
   "cell_type": "markdown",
   "metadata": {},
   "source": [
    "### TF-IDF Vectorizer"
   ]
  },
  {
   "cell_type": "code",
   "execution_count": 55,
   "metadata": {
    "execution": {
     "iopub.execute_input": "2021-11-21T22:02:53.056617Z",
     "iopub.status.busy": "2021-11-21T22:02:53.056167Z",
     "iopub.status.idle": "2021-11-21T22:02:53.065578Z",
     "shell.execute_reply": "2021-11-21T22:02:53.064671Z",
     "shell.execute_reply.started": "2021-11-21T22:02:53.056583Z"
    }
   },
   "outputs": [
    {
     "data": {
      "text/plain": [
       "((1984,), (497,), (1984, 10), (497, 10))"
      ]
     },
     "execution_count": 55,
     "metadata": {},
     "output_type": "execute_result"
    }
   ],
   "source": [
    "X_train, X_test, y_train, y_test = train_test_split(quotes_multi_label_data['clean_text'], y, test_size= .2, random_state= 2021)\n",
    "X_train.shape, X_test.shape, y_train.shape,  y_test.shape"
   ]
  },
  {
   "cell_type": "code",
   "execution_count": 56,
   "metadata": {
    "execution": {
     "iopub.execute_input": "2021-11-21T22:02:53.067537Z",
     "iopub.status.busy": "2021-11-21T22:02:53.067023Z",
     "iopub.status.idle": "2021-11-21T22:02:53.300856Z",
     "shell.execute_reply": "2021-11-21T22:02:53.300151Z",
     "shell.execute_reply.started": "2021-11-21T22:02:53.067501Z"
    }
   },
   "outputs": [
    {
     "data": {
      "text/plain": [
       "((1984, 10000), (497, 10000))"
      ]
     },
     "execution_count": 56,
     "metadata": {},
     "output_type": "execute_result"
    }
   ],
   "source": [
    "tf_idf = TfidfVectorizer(analyzer= 'word', max_features= 10000, ngram_range= (1, 3))\n",
    "X_train = tf_idf.fit_transform(X_train)\n",
    "X_test = tf_idf.transform(X_test)\n",
    "X_train.shape, X_test.shape"
   ]
  },
  {
   "cell_type": "markdown",
   "metadata": {},
   "source": [
    "### Building The Model"
   ]
  },
  {
   "cell_type": "code",
   "execution_count": 58,
   "metadata": {
    "execution": {
     "iopub.execute_input": "2021-11-21T22:02:53.303451Z",
     "iopub.status.busy": "2021-11-21T22:02:53.303182Z",
     "iopub.status.idle": "2021-11-21T22:02:53.307429Z",
     "shell.execute_reply": "2021-11-21T22:02:53.306544Z",
     "shell.execute_reply.started": "2021-11-21T22:02:53.303418Z"
    }
   },
   "outputs": [],
   "source": [
    "sgd = SGDClassifier()\n",
    "lr = LinearRegression()\n",
    "svc = LinearSVC()"
   ]
  },
  {
   "cell_type": "code",
   "execution_count": 61,
   "metadata": {
    "execution": {
     "iopub.execute_input": "2021-11-21T22:02:53.309598Z",
     "iopub.status.busy": "2021-11-21T22:02:53.309311Z",
     "iopub.status.idle": "2021-11-21T22:02:53.316685Z",
     "shell.execute_reply": "2021-11-21T22:02:53.316021Z",
     "shell.execute_reply.started": "2021-11-21T22:02:53.309563Z"
    }
   },
   "outputs": [],
   "source": [
    "# jaccard_score => IOU\n",
    "def jaccard_score(y_true, y_pred):\n",
    "    jaccard = np.minimum(y_true, y_pred).sum(axis= 1) / np.maximum(y_true, y_pred).sum(axis= 1)\n",
    "    return jaccard.mean() * 100\n",
    "\n",
    "def print_score(y_pred, clf):\n",
    "    print(\"clf:\", clf.__class__.__name__)\n",
    "    print(\"Jaccard Score:\", round(jaccard_score(y_test, y_pred),3))\n",
    "    print('-'*20)"
   ]
  },
  {
   "cell_type": "code",
   "execution_count": 62,
   "metadata": {
    "execution": {
     "iopub.execute_input": "2021-11-21T22:02:53.318733Z",
     "iopub.status.busy": "2021-11-21T22:02:53.318125Z",
     "iopub.status.idle": "2021-11-21T22:02:54.755041Z",
     "shell.execute_reply": "2021-11-21T22:02:54.754335Z",
     "shell.execute_reply.started": "2021-11-21T22:02:53.318695Z"
    }
   },
   "outputs": [
    {
     "name": "stdout",
     "output_type": "stream",
     "text": [
      "clf: SGDClassifier\n",
      "Jaccard Score: 34.387\n",
      "--------------------\n",
      "clf: LinearRegression\n",
      "Jaccard Score: 34.869\n",
      "--------------------\n",
      "clf: LinearSVC\n",
      "Jaccard Score: 34.383\n",
      "--------------------\n"
     ]
    }
   ],
   "source": [
    "for classifier in [sgd, lr, svc]:\n",
    "    clf = OneVsRestClassifier(classifier)\n",
    "    clf.fit(X_train, y_train)\n",
    "    y_pred = clf.predict(X_test)\n",
    "    print_score(y_pred, classifier)"
   ]
  },
  {
   "cell_type": "markdown",
   "metadata": {},
   "source": [
    "**The accuracy it's too low, because the data is samll 2481 row data.**"
   ]
  },
  {
   "cell_type": "markdown",
   "metadata": {},
   "source": [
    "### Model Testing"
   ]
  },
  {
   "cell_type": "code",
   "execution_count": 63,
   "metadata": {
    "execution": {
     "iopub.execute_input": "2021-11-21T22:02:54.758313Z",
     "iopub.status.busy": "2021-11-21T22:02:54.757891Z",
     "iopub.status.idle": "2021-11-21T22:02:54.763121Z",
     "shell.execute_reply": "2021-11-21T22:02:54.762148Z",
     "shell.execute_reply.started": "2021-11-21T22:02:54.758283Z"
    }
   },
   "outputs": [],
   "source": [
    "def ml_predicted_tags(sent):\n",
    "    lebels = []\n",
    "    xt = tf_idf.transform([sent])\n",
    "    labels = list(multi_label.inverse_transform(clf.predict(xt))[0])\n",
    "    return labels"
   ]
  },
  {
   "cell_type": "code",
   "execution_count": 64,
   "metadata": {
    "execution": {
     "iopub.execute_input": "2021-11-21T22:02:54.764853Z",
     "iopub.status.busy": "2021-11-21T22:02:54.764586Z",
     "iopub.status.idle": "2021-11-21T22:02:54.777430Z",
     "shell.execute_reply": "2021-11-21T22:02:54.776379Z",
     "shell.execute_reply.started": "2021-11-21T22:02:54.764805Z"
    }
   },
   "outputs": [
    {
     "name": "stdout",
     "output_type": "stream",
     "text": [
      "The predicted labels for ml_predicted_tags : ['happiness', 'humor', 'inspirational', 'inspirational-quotes', 'love', 'writing']\n",
      "The predicted labels for simple_multi_label : ['happiness', 'read', 'holiness']\n",
      "The predicted labels for fuzzywuzzy_sim : ['reading', 'writing', 'happiness', 'humor', 'inspirational']\n"
     ]
    }
   ],
   "source": [
    "q = \"I'm happy when i am reading the holy Quran\"\n",
    "print(f'The predicted labels for ml_predicted_tags : {ml_predicted_tags(q)}')\n",
    "print(f'The predicted labels for simple_multi_label : {simple_multi_label(q)}')\n",
    "print(f'The predicted labels for fuzzywuzzy_sim : {fuzzywuzzy_sim(q)}')"
   ]
  },
  {
   "cell_type": "markdown",
   "metadata": {},
   "source": [
    "## Choosen my ML model"
   ]
  },
  {
   "cell_type": "code",
   "execution_count": 65,
   "metadata": {
    "execution": {
     "iopub.execute_input": "2021-11-21T22:02:54.779162Z",
     "iopub.status.busy": "2021-11-21T22:02:54.778910Z",
     "iopub.status.idle": "2021-11-21T22:02:54.879885Z",
     "shell.execute_reply": "2021-11-21T22:02:54.879142Z",
     "shell.execute_reply.started": "2021-11-21T22:02:54.779130Z"
    }
   },
   "outputs": [],
   "source": [
    "sgd = SGDClassifier()\n",
    "clf = OneVsRestClassifier(sgd)\n",
    "clf.fit(X_train, y_train)\n",
    "y_pred = clf.predict(X_test)"
   ]
  },
  {
   "cell_type": "markdown",
   "metadata": {},
   "source": [
    "### Model Testing"
   ]
  },
  {
   "cell_type": "code",
   "execution_count": 66,
   "metadata": {
    "execution": {
     "iopub.execute_input": "2021-11-21T22:02:54.881604Z",
     "iopub.status.busy": "2021-11-21T22:02:54.881326Z",
     "iopub.status.idle": "2021-11-21T22:02:54.886412Z",
     "shell.execute_reply": "2021-11-21T22:02:54.885526Z",
     "shell.execute_reply.started": "2021-11-21T22:02:54.881568Z"
    }
   },
   "outputs": [],
   "source": [
    "def ml_predicted_tags(q):\n",
    "    tags = []\n",
    "    x = tf_idf.transform([q])\n",
    "    tags = list(multi_label.inverse_transform(clf.predict(x))[0]) \n",
    "    return tags"
   ]
  },
  {
   "cell_type": "code",
   "execution_count": 67,
   "metadata": {
    "execution": {
     "iopub.execute_input": "2021-11-21T22:02:54.894452Z",
     "iopub.status.busy": "2021-11-21T22:02:54.893911Z",
     "iopub.status.idle": "2021-11-21T22:02:54.903581Z",
     "shell.execute_reply": "2021-11-21T22:02:54.902552Z",
     "shell.execute_reply.started": "2021-11-21T22:02:54.894408Z"
    }
   },
   "outputs": [
    {
     "name": "stdout",
     "output_type": "stream",
     "text": [
      "['happiness', 'humor', 'inspirational', 'inspirational-quotes']\n"
     ]
    }
   ],
   "source": [
    "q = \"i'm happy because i'm reading the hole Quran\"\n",
    "cleaned_q = preprocess_data(q)\n",
    "print(ml_predicted_tags(cleaned_q))"
   ]
  },
  {
   "cell_type": "code",
   "execution_count": 68,
   "metadata": {
    "execution": {
     "iopub.execute_input": "2021-11-21T22:02:54.905894Z",
     "iopub.status.busy": "2021-11-21T22:02:54.904869Z",
     "iopub.status.idle": "2021-11-21T22:02:54.911174Z",
     "shell.execute_reply": "2021-11-21T22:02:54.910377Z",
     "shell.execute_reply.started": "2021-11-21T22:02:54.905846Z"
    }
   },
   "outputs": [],
   "source": [
    "def some_pred_funcs(q):\n",
    "    l1 = ml_predicted_tags(q)\n",
    "    l2 = simple_multi_label(q)\n",
    "    l3 = fuzzywuzzy_sim(q)\n",
    "    l4 = list(set(l1+l2+l3))\n",
    "    return l4"
   ]
  },
  {
   "cell_type": "code",
   "execution_count": 69,
   "metadata": {
    "execution": {
     "iopub.execute_input": "2021-11-21T22:02:54.913455Z",
     "iopub.status.busy": "2021-11-21T22:02:54.912474Z",
     "iopub.status.idle": "2021-11-21T22:02:54.928784Z",
     "shell.execute_reply": "2021-11-21T22:02:54.928064Z",
     "shell.execute_reply.started": "2021-11-21T22:02:54.913267Z"
    }
   },
   "outputs": [
    {
     "data": {
      "text/plain": [
       "['inspirational-quotes',\n",
       " 'writing',\n",
       " 'inspiration',\n",
       " 'humor',\n",
       " 'inspirational',\n",
       " 'books',\n",
       " 'longing',\n",
       " 'reading',\n",
       " 'belonging',\n",
       " 'love']"
      ]
     },
     "execution_count": 69,
     "metadata": {},
     "output_type": "execute_result"
    }
   ],
   "source": [
    "q = \"If you don't belong, don't be long!\"\n",
    "some_pred_funcs(q)"
   ]
  },
  {
   "cell_type": "markdown",
   "metadata": {},
   "source": [
    "## Deep Learning Model"
   ]
  },
  {
   "cell_type": "markdown",
   "metadata": {},
   "source": [
    "#### Build The RoBERTa Model"
   ]
  },
  {
   "cell_type": "code",
   "execution_count": 71,
   "metadata": {
    "execution": {
     "iopub.execute_input": "2021-11-21T22:08:20.630078Z",
     "iopub.status.busy": "2021-11-21T22:08:20.629150Z",
     "iopub.status.idle": "2021-11-21T22:08:20.637925Z",
     "shell.execute_reply": "2021-11-21T22:08:20.636758Z",
     "shell.execute_reply.started": "2021-11-21T22:08:20.630038Z"
    }
   },
   "outputs": [],
   "source": [
    "import tensorflow as tf\n",
    "import torch\n",
    "import torchvision\n",
    "from transformers import AutoTokenizer, AutoConfig\n",
    "\n",
    "from transformers import TFRobertaModel, RobertaConfig, RobertaTokenizerFast\n",
    "from tensorflow.keras.layers import Input, Dropout, Dense\n",
    "from tensorflow.keras.models import Model\n",
    "from tensorflow.keras.optimizers import Adam\n",
    "from tensorflow.keras.callbacks import EarlyStopping\n",
    "from tensorflow.keras.initializers import TruncatedNormal\n",
    "from tensorflow.keras.losses import CategoricalCrossentropy, BinaryCrossentropy\n",
    "from tensorflow.keras.metrics import CategoricalAccuracy, BinaryAccuracy\n",
    "from tensorflow.keras.utils import to_categorical\n",
    "from tensorflow.keras.preprocessing.sequence import pad_sequences\n",
    "from tensorflow.keras.preprocessing.text import Tokenizer\n",
    "from tensorflow.keras.models import Sequential"
   ]
  },
  {
   "cell_type": "code",
   "execution_count": 145,
   "metadata": {
    "execution": {
     "iopub.execute_input": "2021-11-21T22:03:04.164220Z",
     "iopub.status.busy": "2021-11-21T22:03:04.163952Z",
     "iopub.status.idle": "2021-11-21T22:03:47.093061Z",
     "shell.execute_reply": "2021-11-21T22:03:47.092337Z",
     "shell.execute_reply.started": "2021-11-21T22:03:04.164188Z"
    }
   },
   "outputs": [
    {
     "data": {
      "application/vnd.jupyter.widget-view+json": {
       "model_id": "1472a33475d44f4fa79a523b2ab66bc2",
       "version_major": 2,
       "version_minor": 0
      },
      "text/plain": [
       "Downloading:   0%|          | 0.00/481 [00:00<?, ?B/s]"
      ]
     },
     "metadata": {},
     "output_type": "display_data"
    },
    {
     "data": {
      "application/vnd.jupyter.widget-view+json": {
       "model_id": "36d0e828cf5f471a93e6a12c23b1a96a",
       "version_major": 2,
       "version_minor": 0
      },
      "text/plain": [
       "Downloading:   0%|          | 0.00/899k [00:00<?, ?B/s]"
      ]
     },
     "metadata": {},
     "output_type": "display_data"
    },
    {
     "data": {
      "application/vnd.jupyter.widget-view+json": {
       "model_id": "7659ff869c3641cca36a67f2f406591d",
       "version_major": 2,
       "version_minor": 0
      },
      "text/plain": [
       "Downloading:   0%|          | 0.00/456k [00:00<?, ?B/s]"
      ]
     },
     "metadata": {},
     "output_type": "display_data"
    },
    {
     "data": {
      "application/vnd.jupyter.widget-view+json": {
       "model_id": "8a9013f59cf744609a7b175413953b71",
       "version_major": 2,
       "version_minor": 0
      },
      "text/plain": [
       "Downloading:   0%|          | 0.00/1.36M [00:00<?, ?B/s]"
      ]
     },
     "metadata": {},
     "output_type": "display_data"
    },
    {
     "data": {
      "application/vnd.jupyter.widget-view+json": {
       "model_id": "8588e385347d43e8ab8953789d77a488",
       "version_major": 2,
       "version_minor": 0
      },
      "text/plain": [
       "Downloading:   0%|          | 0.00/657M [00:00<?, ?B/s]"
      ]
     },
     "metadata": {},
     "output_type": "display_data"
    },
    {
     "name": "stderr",
     "output_type": "stream",
     "text": [
      "2021-11-21 22:03:37.090725: I tensorflow/compiler/jit/xla_cpu_device.cc:41] Not creating XLA devices, tf_xla_enable_xla_devices not set\n",
      "2021-11-21 22:03:37.094657: I tensorflow/stream_executor/platform/default/dso_loader.cc:49] Successfully opened dynamic library libcuda.so.1\n",
      "2021-11-21 22:03:37.117010: I tensorflow/stream_executor/cuda/cuda_gpu_executor.cc:941] successful NUMA node read from SysFS had negative value (-1), but there must be at least one NUMA node, so returning NUMA node zero\n",
      "2021-11-21 22:03:37.117944: I tensorflow/core/common_runtime/gpu/gpu_device.cc:1720] Found device 0 with properties: \n",
      "pciBusID: 0000:00:04.0 name: Tesla P100-PCIE-16GB computeCapability: 6.0\n",
      "coreClock: 1.3285GHz coreCount: 56 deviceMemorySize: 15.90GiB deviceMemoryBandwidth: 681.88GiB/s\n",
      "2021-11-21 22:03:37.118048: I tensorflow/stream_executor/platform/default/dso_loader.cc:49] Successfully opened dynamic library libcudart.so.11.0\n",
      "2021-11-21 22:03:37.121790: I tensorflow/stream_executor/platform/default/dso_loader.cc:49] Successfully opened dynamic library libcublas.so.11\n",
      "2021-11-21 22:03:37.121941: I tensorflow/stream_executor/platform/default/dso_loader.cc:49] Successfully opened dynamic library libcublasLt.so.11\n",
      "2021-11-21 22:03:37.123746: I tensorflow/stream_executor/platform/default/dso_loader.cc:49] Successfully opened dynamic library libcufft.so.10\n",
      "2021-11-21 22:03:37.124211: I tensorflow/stream_executor/platform/default/dso_loader.cc:49] Successfully opened dynamic library libcurand.so.10\n",
      "2021-11-21 22:03:37.128062: I tensorflow/stream_executor/platform/default/dso_loader.cc:49] Successfully opened dynamic library libcusolver.so.10\n",
      "2021-11-21 22:03:37.128944: I tensorflow/stream_executor/platform/default/dso_loader.cc:49] Successfully opened dynamic library libcusparse.so.11\n",
      "2021-11-21 22:03:37.129291: I tensorflow/stream_executor/platform/default/dso_loader.cc:49] Successfully opened dynamic library libcudnn.so.8\n",
      "2021-11-21 22:03:37.129484: I tensorflow/stream_executor/cuda/cuda_gpu_executor.cc:941] successful NUMA node read from SysFS had negative value (-1), but there must be at least one NUMA node, so returning NUMA node zero\n",
      "2021-11-21 22:03:37.130502: I tensorflow/stream_executor/cuda/cuda_gpu_executor.cc:941] successful NUMA node read from SysFS had negative value (-1), but there must be at least one NUMA node, so returning NUMA node zero\n",
      "2021-11-21 22:03:37.132525: I tensorflow/core/common_runtime/gpu/gpu_device.cc:1862] Adding visible gpu devices: 0\n",
      "2021-11-21 22:03:37.134270: I tensorflow/core/platform/cpu_feature_guard.cc:142] This TensorFlow binary is optimized with oneAPI Deep Neural Network Library (oneDNN) to use the following CPU instructions in performance-critical operations:  AVX2 AVX512F FMA\n",
      "To enable them in other operations, rebuild TensorFlow with the appropriate compiler flags.\n",
      "2021-11-21 22:03:37.134521: I tensorflow/compiler/jit/xla_gpu_device.cc:99] Not creating XLA devices, tf_xla_enable_xla_devices not set\n",
      "2021-11-21 22:03:37.134731: I tensorflow/stream_executor/cuda/cuda_gpu_executor.cc:941] successful NUMA node read from SysFS had negative value (-1), but there must be at least one NUMA node, so returning NUMA node zero\n",
      "2021-11-21 22:03:37.135600: I tensorflow/core/common_runtime/gpu/gpu_device.cc:1720] Found device 0 with properties: \n",
      "pciBusID: 0000:00:04.0 name: Tesla P100-PCIE-16GB computeCapability: 6.0\n",
      "coreClock: 1.3285GHz coreCount: 56 deviceMemorySize: 15.90GiB deviceMemoryBandwidth: 681.88GiB/s\n",
      "2021-11-21 22:03:37.135671: I tensorflow/stream_executor/platform/default/dso_loader.cc:49] Successfully opened dynamic library libcudart.so.11.0\n",
      "2021-11-21 22:03:37.135710: I tensorflow/stream_executor/platform/default/dso_loader.cc:49] Successfully opened dynamic library libcublas.so.11\n",
      "2021-11-21 22:03:37.135741: I tensorflow/stream_executor/platform/default/dso_loader.cc:49] Successfully opened dynamic library libcublasLt.so.11\n",
      "2021-11-21 22:03:37.135769: I tensorflow/stream_executor/platform/default/dso_loader.cc:49] Successfully opened dynamic library libcufft.so.10\n",
      "2021-11-21 22:03:37.135798: I tensorflow/stream_executor/platform/default/dso_loader.cc:49] Successfully opened dynamic library libcurand.so.10\n",
      "2021-11-21 22:03:37.135826: I tensorflow/stream_executor/platform/default/dso_loader.cc:49] Successfully opened dynamic library libcusolver.so.10\n",
      "2021-11-21 22:03:37.135857: I tensorflow/stream_executor/platform/default/dso_loader.cc:49] Successfully opened dynamic library libcusparse.so.11\n",
      "2021-11-21 22:03:37.135886: I tensorflow/stream_executor/platform/default/dso_loader.cc:49] Successfully opened dynamic library libcudnn.so.8\n",
      "2021-11-21 22:03:37.136007: I tensorflow/stream_executor/cuda/cuda_gpu_executor.cc:941] successful NUMA node read from SysFS had negative value (-1), but there must be at least one NUMA node, so returning NUMA node zero\n",
      "2021-11-21 22:03:37.136943: I tensorflow/stream_executor/cuda/cuda_gpu_executor.cc:941] successful NUMA node read from SysFS had negative value (-1), but there must be at least one NUMA node, so returning NUMA node zero\n",
      "2021-11-21 22:03:37.137756: I tensorflow/core/common_runtime/gpu/gpu_device.cc:1862] Adding visible gpu devices: 0\n",
      "2021-11-21 22:03:37.138900: I tensorflow/stream_executor/platform/default/dso_loader.cc:49] Successfully opened dynamic library libcudart.so.11.0\n",
      "2021-11-21 22:03:44.731406: I tensorflow/core/common_runtime/gpu/gpu_device.cc:1261] Device interconnect StreamExecutor with strength 1 edge matrix:\n",
      "2021-11-21 22:03:44.731453: I tensorflow/core/common_runtime/gpu/gpu_device.cc:1267]      0 \n",
      "2021-11-21 22:03:44.731464: I tensorflow/core/common_runtime/gpu/gpu_device.cc:1280] 0:   N \n",
      "2021-11-21 22:03:44.734100: I tensorflow/stream_executor/cuda/cuda_gpu_executor.cc:941] successful NUMA node read from SysFS had negative value (-1), but there must be at least one NUMA node, so returning NUMA node zero\n",
      "2021-11-21 22:03:44.734873: I tensorflow/stream_executor/cuda/cuda_gpu_executor.cc:941] successful NUMA node read from SysFS had negative value (-1), but there must be at least one NUMA node, so returning NUMA node zero\n",
      "2021-11-21 22:03:44.735519: I tensorflow/stream_executor/cuda/cuda_gpu_executor.cc:941] successful NUMA node read from SysFS had negative value (-1), but there must be at least one NUMA node, so returning NUMA node zero\n",
      "2021-11-21 22:03:44.736066: I tensorflow/core/common_runtime/gpu/gpu_device.cc:1406] Created TensorFlow device (/job:localhost/replica:0/task:0/device:GPU:0 with 14387 MB memory) -> physical GPU (device: 0, name: Tesla P100-PCIE-16GB, pci bus id: 0000:00:04.0, compute capability: 6.0)\n",
      "2021-11-21 22:03:45.214881: I tensorflow/stream_executor/platform/default/dso_loader.cc:49] Successfully opened dynamic library libcublas.so.11\n",
      "2021-11-21 22:03:46.099511: I tensorflow/stream_executor/platform/default/dso_loader.cc:49] Successfully opened dynamic library libcublasLt.so.11\n",
      "Some layers from the model checkpoint at roberta-base were not used when initializing TFRobertaModel: ['lm_head']\n",
      "- This IS expected if you are initializing TFRobertaModel from the checkpoint of a model trained on another task or with another architecture (e.g. initializing a BertForSequenceClassification model from a BertForPreTraining model).\n",
      "- This IS NOT expected if you are initializing TFRobertaModel from the checkpoint of a model that you expect to be exactly identical (initializing a BertForSequenceClassification model from a BertForSequenceClassification model).\n",
      "All the layers of TFRobertaModel were initialized from the model checkpoint at roberta-base.\n",
      "If your task is similar to the task the model of the checkpoint was trained on, you can already use TFRobertaModel for predictions without further training.\n"
     ]
    }
   ],
   "source": [
    "# Name of the Roberta model to use\n",
    "model_name = 'roberta-base'\n",
    "\n",
    "# Load transformers config and set output_hidden_states to False\n",
    "config = RobertaConfig.from_pretrained(model_name)\n",
    "config.output_hidden_states = False\n",
    "\n",
    "# Load Roberta tokenizer\n",
    "tokenizer = RobertaTokenizerFast.from_pretrained(pretrained_model_name_or_path = model_name, config = config)\n",
    "\n",
    "# Load the Transformers BERT model\n",
    "transformer_model = TFRobertaModel.from_pretrained(model_name, config = config)"
   ]
  },
  {
   "cell_type": "code",
   "execution_count": 147,
   "metadata": {
    "execution": {
     "iopub.execute_input": "2021-11-21T22:05:05.050890Z",
     "iopub.status.busy": "2021-11-21T22:05:05.050297Z",
     "iopub.status.idle": "2021-11-21T22:05:05.060454Z",
     "shell.execute_reply": "2021-11-21T22:05:05.059699Z",
     "shell.execute_reply.started": "2021-11-21T22:05:05.050854Z"
    }
   },
   "outputs": [
    {
     "data": {
      "text/plain": [
       "((1984,), (497,), (1984, 10), (497, 10))"
      ]
     },
     "execution_count": 147,
     "metadata": {},
     "output_type": "execute_result"
    }
   ],
   "source": [
    "X_train, X_test, y_train, y_test = train_test_split(quotes_multi_label_data['quotes'], y, test_size= .2, random_state= 2021)\n",
    "X_train.shape, X_test.shape, y_train.shape,  y_test.shape"
   ]
  },
  {
   "cell_type": "code",
   "execution_count": 148,
   "metadata": {
    "execution": {
     "iopub.execute_input": "2021-11-21T22:05:07.478154Z",
     "iopub.status.busy": "2021-11-21T22:05:07.477886Z",
     "iopub.status.idle": "2021-11-21T22:05:07.866673Z",
     "shell.execute_reply": "2021-11-21T22:05:07.865905Z",
     "shell.execute_reply.started": "2021-11-21T22:05:07.478123Z"
    }
   },
   "outputs": [
    {
     "name": "stderr",
     "output_type": "stream",
     "text": [
      "Token indices sequence length is longer than the specified maximum sequence length for this model (544 > 512). Running this sequence through the model will result in indexing errors\n"
     ]
    },
    {
     "name": "stdout",
     "output_type": "stream",
     "text": [
      "Max length in traning:  856\n"
     ]
    }
   ],
   "source": [
    "# This is work well\n",
    "all_quotes = X_train.values\n",
    "\n",
    "# Encode our concatenated data\n",
    "encoded_qoutes = [tokenizer.encode(sent, add_special_tokens=True) for sent in all_quotes]\n",
    "\n",
    "# Find the maximum length\n",
    "max_length_all_quotes_training = max([len(sent) for sent in encoded_qoutes])\n",
    "\n",
    "print('Max length in traning: ', max_length_all_quotes_training)"
   ]
  },
  {
   "cell_type": "code",
   "execution_count": 149,
   "metadata": {
    "execution": {
     "iopub.execute_input": "2021-11-21T22:05:11.203029Z",
     "iopub.status.busy": "2021-11-21T22:05:11.202441Z",
     "iopub.status.idle": "2021-11-21T22:05:16.030801Z",
     "shell.execute_reply": "2021-11-21T22:05:16.029891Z",
     "shell.execute_reply.started": "2021-11-21T22:05:11.202992Z"
    }
   },
   "outputs": [
    {
     "name": "stdout",
     "output_type": "stream",
     "text": [
      "Max length in traning:  30\n",
      "Model: \"Roberta_MultiLabel_MultiClass\"\n",
      "_________________________________________________________________\n",
      "Layer (type)                 Output Shape              Param #   \n",
      "=================================================================\n",
      "input_ids (InputLayer)       [(None, 30)]              0         \n",
      "_________________________________________________________________\n",
      "roberta (TFRobertaMainLayer) TFBaseModelOutputWithPool 124645632 \n",
      "_________________________________________________________________\n",
      "pooled_output (Dropout)      (None, 768)               0         \n",
      "_________________________________________________________________\n",
      "issue (Dense)                (None, 10)                7690      \n",
      "=================================================================\n",
      "Total params: 124,653,322\n",
      "Trainable params: 124,653,322\n",
      "Non-trainable params: 0\n",
      "_________________________________________________________________\n"
     ]
    }
   ],
   "source": [
    "# we choosen 30 because is the max lenght in evaluation\n",
    "max_length_all_quotes_training = 30\n",
    "print('Max length in traning: ', max_length_all_quotes_training)\n",
    "\n",
    "# Load the MainLayer\n",
    "roberta = transformer_model.layers[0]\n",
    "\n",
    "# Build your model input\n",
    "input_ids = Input(shape=(max_length_all_quotes_training,), name='input_ids', dtype='int32')\n",
    "attention_mask = Input(shape=(max_length_all_quotes_training,), name='attention_mask', dtype='int32') \n",
    "\n",
    "inputs = {'input_ids': input_ids}\n",
    "\n",
    "# Load the Transformers Roberta model as a layer in a Keras model\n",
    "roberta_model = roberta(inputs)[1]\n",
    "dropout = Dropout(config.hidden_dropout_prob, name='pooled_output')\n",
    "pooled_output = dropout(roberta_model, training=False)\n",
    "\n",
    "# Then build your model output\n",
    "labels = Dense(units=10, activation='sigmoid', kernel_initializer=TruncatedNormal(stddev=config.initializer_range), name='issue')(pooled_output)\n",
    "# outputs = Dense(3, activation='softmax')(labels)\n",
    "outputs = {'label': labels}\n",
    "\n",
    "# And combine it all in a model object\n",
    "\n",
    "model = Model(inputs=inputs, outputs=outputs, name='Roberta_MultiLabel_MultiClass')\n",
    "\n",
    "# Take a look at the model\n",
    "model.summary()"
   ]
  },
  {
   "cell_type": "code",
   "execution_count": 150,
   "metadata": {
    "execution": {
     "iopub.execute_input": "2021-11-21T22:05:16.033077Z",
     "iopub.status.busy": "2021-11-21T22:05:16.032740Z",
     "iopub.status.idle": "2021-11-21T22:05:16.052030Z",
     "shell.execute_reply": "2021-11-21T22:05:16.051083Z",
     "shell.execute_reply.started": "2021-11-21T22:05:16.033039Z"
    }
   },
   "outputs": [
    {
     "data": {
      "text/html": [
       "<div>\n",
       "<style scoped>\n",
       "    .dataframe tbody tr th:only-of-type {\n",
       "        vertical-align: middle;\n",
       "    }\n",
       "\n",
       "    .dataframe tbody tr th {\n",
       "        vertical-align: top;\n",
       "    }\n",
       "\n",
       "    .dataframe thead th {\n",
       "        text-align: right;\n",
       "    }\n",
       "</style>\n",
       "<table border=\"1\" class=\"dataframe\">\n",
       "  <thead>\n",
       "    <tr style=\"text-align: right;\">\n",
       "      <th></th>\n",
       "      <th>quotes</th>\n",
       "      <th>tags</th>\n",
       "      <th>clean_text</th>\n",
       "      <th>n_tags</th>\n",
       "      <th>customize_tags</th>\n",
       "      <th>customize_top_5_tags</th>\n",
       "    </tr>\n",
       "  </thead>\n",
       "  <tbody>\n",
       "    <tr>\n",
       "      <th>0</th>\n",
       "      <td>Be yourself; everyone else is already taken.</td>\n",
       "      <td>[attributed-no-source, be-yourself, honesty, i...</td>\n",
       "      <td>everyon els alreadi taken</td>\n",
       "      <td>5</td>\n",
       "      <td>[attributed-no-source, be-yourself, honesty, i...</td>\n",
       "      <td>[reading, writing, life, inspirational, happin...</td>\n",
       "    </tr>\n",
       "    <tr>\n",
       "      <th>1</th>\n",
       "      <td>I'm selfish, impatient and a little insecure. ...</td>\n",
       "      <td>[attributed-no-source, best, life, love, mista...</td>\n",
       "      <td>im selfish impati littl insecur make mistak co...</td>\n",
       "      <td>8</td>\n",
       "      <td>[life, love, inspirational]</td>\n",
       "      <td>[inspiration, books, reading, inspirational, h...</td>\n",
       "    </tr>\n",
       "    <tr>\n",
       "      <th>2</th>\n",
       "      <td>Two things are infinite: the universe and huma...</td>\n",
       "      <td>[attributed-no-source, human-nature, humor, in...</td>\n",
       "      <td>two thing infinit univers human stupid im sure...</td>\n",
       "      <td>8</td>\n",
       "      <td>[humor, love, inspirational]</td>\n",
       "      <td>[writing, humor, love, inspirational, reading]</td>\n",
       "    </tr>\n",
       "    <tr>\n",
       "      <th>3</th>\n",
       "      <td>So many books, so little time.</td>\n",
       "      <td>[books, humor]</td>\n",
       "      <td>mani book littl time</td>\n",
       "      <td>2</td>\n",
       "      <td>[books, humor]</td>\n",
       "      <td>[writing, inspirational-quotes, humor, books, ...</td>\n",
       "    </tr>\n",
       "    <tr>\n",
       "      <th>4</th>\n",
       "      <td>A room without books is like a body without a ...</td>\n",
       "      <td>[attributed-no-source, books, simile, soul]</td>\n",
       "      <td>room without book like bodi without soul</td>\n",
       "      <td>4</td>\n",
       "      <td>[attributed-no-source, books, simile, soul]</td>\n",
       "      <td>[happiness, inspirational-quotes, love, readin...</td>\n",
       "    </tr>\n",
       "  </tbody>\n",
       "</table>\n",
       "</div>"
      ],
      "text/plain": [
       "                                              quotes  \\\n",
       "0       Be yourself; everyone else is already taken.   \n",
       "1  I'm selfish, impatient and a little insecure. ...   \n",
       "2  Two things are infinite: the universe and huma...   \n",
       "3                     So many books, so little time.   \n",
       "4  A room without books is like a body without a ...   \n",
       "\n",
       "                                                tags  \\\n",
       "0  [attributed-no-source, be-yourself, honesty, i...   \n",
       "1  [attributed-no-source, best, life, love, mista...   \n",
       "2  [attributed-no-source, human-nature, humor, in...   \n",
       "3                                     [books, humor]   \n",
       "4        [attributed-no-source, books, simile, soul]   \n",
       "\n",
       "                                          clean_text  n_tags  \\\n",
       "0                          everyon els alreadi taken       5   \n",
       "1  im selfish impati littl insecur make mistak co...       8   \n",
       "2  two thing infinit univers human stupid im sure...       8   \n",
       "3                               mani book littl time       2   \n",
       "4           room without book like bodi without soul       4   \n",
       "\n",
       "                                      customize_tags  \\\n",
       "0  [attributed-no-source, be-yourself, honesty, i...   \n",
       "1                        [life, love, inspirational]   \n",
       "2                       [humor, love, inspirational]   \n",
       "3                                     [books, humor]   \n",
       "4        [attributed-no-source, books, simile, soul]   \n",
       "\n",
       "                                customize_top_5_tags  \n",
       "0  [reading, writing, life, inspirational, happin...  \n",
       "1  [inspiration, books, reading, inspirational, h...  \n",
       "2     [writing, humor, love, inspirational, reading]  \n",
       "3  [writing, inspirational-quotes, humor, books, ...  \n",
       "4  [happiness, inspirational-quotes, love, readin...  "
      ]
     },
     "execution_count": 150,
     "metadata": {},
     "output_type": "execute_result"
    }
   ],
   "source": [
    "top_10_tag\n",
    "quotes_multi_label_data.head()"
   ]
  },
  {
   "cell_type": "code",
   "execution_count": 151,
   "metadata": {
    "execution": {
     "iopub.execute_input": "2021-11-21T22:05:16.053757Z",
     "iopub.status.busy": "2021-11-21T22:05:16.053486Z",
     "iopub.status.idle": "2021-11-21T22:05:16.062715Z",
     "shell.execute_reply": "2021-11-21T22:05:16.061997Z",
     "shell.execute_reply.started": "2021-11-21T22:05:16.053721Z"
    }
   },
   "outputs": [],
   "source": [
    "import math\n",
    "valid_split = 0.2\n",
    "batch_size_no = 32\n",
    "epochs_no = 16\n",
    "initial_lr = 5e-05\n",
    "step_no = math.ceil(len(quotes_multi_label_data)/32)"
   ]
  },
  {
   "cell_type": "code",
   "execution_count": 157,
   "metadata": {
    "execution": {
     "iopub.execute_input": "2021-11-21T22:08:47.592135Z",
     "iopub.status.busy": "2021-11-21T22:08:47.591569Z",
     "iopub.status.idle": "2021-11-21T22:08:47.827912Z",
     "shell.execute_reply": "2021-11-21T22:08:47.827195Z",
     "shell.execute_reply.started": "2021-11-21T22:08:47.592099Z"
    }
   },
   "outputs": [],
   "source": [
    "# Set an optimizer\n",
    "optimizer = Adam(\n",
    "    learning_rate=initial_lr,\n",
    "    epsilon=1e-08,\n",
    "    decay=0.01,\n",
    "    clipnorm=1.0)\n",
    "\n",
    "# Set loss and metrics\n",
    "loss = {'label': BinaryCrossentropy(from_logits = True)}\n",
    "# loss = {'label': CategoricalCrossentropy(from_logits = False)} # when i using it = False, get low accuracy!!\n",
    "metric = {'label': BinaryAccuracy('accuracy')}\n",
    "\n",
    "# Compile the model\n",
    "model.compile(optimizer = optimizer, loss = loss, metrics = metric)\n",
    "\n",
    "# Ready output data for the model\n",
    "# y_labels = to_categorical(y_train)\n",
    "y_labels = y_train\n",
    "\n",
    "\n",
    "# Tokenize the input (takes some time)\n",
    "x = tokenizer(\n",
    "#     text=quotes_multi_label_data.clean_text.tolist(),\n",
    "    text=X_train.tolist(),\n",
    "    add_special_tokens=True,\n",
    "    max_length=max_length_all_quotes_training,\n",
    "    truncation=True,\n",
    "    padding=True, \n",
    "    return_tensors='tf',\n",
    "    return_token_type_ids = False,\n",
    "    return_attention_mask = False,\n",
    "    verbose = True)\n",
    "\n",
    "\n",
    "checkpoint_filepath = 'roberta_keras_weights.h5'\n",
    "model_checkpoint_callback = tf.keras.callbacks.ModelCheckpoint(\n",
    "    filepath=checkpoint_filepath,\n",
    "    save_weights_only=True,\n",
    "    monitor='val_accuracy',\n",
    "    mode='max',\n",
    "    save_best_only=True)"
   ]
  },
  {
   "cell_type": "code",
   "execution_count": 158,
   "metadata": {
    "execution": {
     "iopub.execute_input": "2021-11-21T22:08:52.987318Z",
     "iopub.status.busy": "2021-11-21T22:08:52.987041Z",
     "iopub.status.idle": "2021-11-21T22:11:32.416063Z",
     "shell.execute_reply": "2021-11-21T22:11:32.414933Z",
     "shell.execute_reply.started": "2021-11-21T22:08:52.987288Z"
    }
   },
   "outputs": [
    {
     "name": "stderr",
     "output_type": "stream",
     "text": [
      "2021-11-21 22:08:53.054294: I tensorflow/compiler/mlir/mlir_graph_optimization_pass.cc:116] None of the MLIR optimization passes are enabled (registered 2)\n",
      "2021-11-21 22:08:53.065845: I tensorflow/core/platform/profile_utils/cpu_utils.cc:112] CPU Frequency: 2000194999 Hz\n"
     ]
    },
    {
     "name": "stdout",
     "output_type": "stream",
     "text": [
      "Epoch 1/16\n",
      "50/50 [==============================] - 30s 220ms/step - loss: 0.6955 - accuracy: 0.4960 - val_loss: 0.6932 - val_accuracy: 0.5043\n",
      "Epoch 2/16\n",
      "50/50 [==============================] - 8s 168ms/step - loss: 0.6933 - accuracy: 0.5050 - val_loss: 0.6936 - val_accuracy: 0.4922\n",
      "Epoch 3/16\n",
      "50/50 [==============================] - 9s 180ms/step - loss: 0.6934 - accuracy: 0.5029 - val_loss: 0.6934 - val_accuracy: 0.4924\n",
      "Epoch 4/16\n",
      "50/50 [==============================] - 8s 167ms/step - loss: 0.6932 - accuracy: 0.5086 - val_loss: 0.6933 - val_accuracy: 0.5038\n",
      "Epoch 5/16\n",
      "50/50 [==============================] - 8s 168ms/step - loss: 0.6932 - accuracy: 0.5065 - val_loss: 0.6930 - val_accuracy: 0.5023\n",
      "Epoch 6/16\n",
      "50/50 [==============================] - 9s 174ms/step - loss: 0.6930 - accuracy: 0.5102 - val_loss: 0.6930 - val_accuracy: 0.5020\n",
      "Epoch 7/16\n",
      "50/50 [==============================] - 8s 168ms/step - loss: 0.6928 - accuracy: 0.5137 - val_loss: 0.6930 - val_accuracy: 0.5065\n",
      "Epoch 8/16\n",
      "50/50 [==============================] - 8s 170ms/step - loss: 0.6932 - accuracy: 0.5061 - val_loss: 0.6933 - val_accuracy: 0.4992\n",
      "Epoch 9/16\n",
      "50/50 [==============================] - 8s 165ms/step - loss: 0.6930 - accuracy: 0.5068 - val_loss: 0.6934 - val_accuracy: 0.5043\n",
      "Epoch 10/16\n",
      "50/50 [==============================] - 9s 171ms/step - loss: 0.6925 - accuracy: 0.5054 - val_loss: 0.6941 - val_accuracy: 0.5003\n",
      "Epoch 11/16\n",
      "50/50 [==============================] - 8s 167ms/step - loss: 0.6912 - accuracy: 0.5189 - val_loss: 0.6986 - val_accuracy: 0.5055\n",
      "Epoch 12/16\n",
      "50/50 [==============================] - 8s 167ms/step - loss: 0.6876 - accuracy: 0.5281 - val_loss: 0.6961 - val_accuracy: 0.4940\n",
      "Epoch 13/16\n",
      "50/50 [==============================] - 8s 165ms/step - loss: 0.6875 - accuracy: 0.5371 - val_loss: 0.6979 - val_accuracy: 0.4945\n",
      "Epoch 14/16\n",
      "50/50 [==============================] - 9s 171ms/step - loss: 0.6799 - accuracy: 0.5505 - val_loss: 0.6992 - val_accuracy: 0.4962\n",
      "Epoch 15/16\n",
      "50/50 [==============================] - 8s 167ms/step - loss: 0.6754 - accuracy: 0.5702 - val_loss: 0.7133 - val_accuracy: 0.5058\n",
      "Epoch 16/16\n",
      "50/50 [==============================] - 8s 167ms/step - loss: 0.6700 - accuracy: 0.5685 - val_loss: 0.7080 - val_accuracy: 0.5055\n",
      "CPU times: user 2min 16s, sys: 18 s, total: 2min 34s\n",
      "Wall time: 2min 39s\n"
     ]
    }
   ],
   "source": [
    "%%time\n",
    "# Fit the model\n",
    "history = model.fit(\n",
    "    x={'input_ids': x['input_ids']},\n",
    "    y={'label': y_labels},\n",
    "    validation_split=valid_split,\n",
    "    batch_size=batch_size_no,\n",
    "    epochs=epochs_no,\n",
    "    callbacks=[model_checkpoint_callback]\n",
    "    )\n"
   ]
  },
  {
   "cell_type": "markdown",
   "metadata": {},
   "source": [
    "#### Evaluate the model\n"
   ]
  },
  {
   "cell_type": "code",
   "execution_count": 159,
   "metadata": {
    "execution": {
     "iopub.execute_input": "2021-11-21T22:11:32.418897Z",
     "iopub.status.busy": "2021-11-21T22:11:32.418065Z",
     "iopub.status.idle": "2021-11-21T22:11:32.424391Z",
     "shell.execute_reply": "2021-11-21T22:11:32.423651Z",
     "shell.execute_reply.started": "2021-11-21T22:11:32.418857Z"
    }
   },
   "outputs": [
    {
     "data": {
      "text/plain": [
       "(497, 10)"
      ]
     },
     "execution_count": 159,
     "metadata": {},
     "output_type": "execute_result"
    }
   ],
   "source": [
    "test_y_labels = y_test\n",
    "test_y_labels.shape"
   ]
  },
  {
   "cell_type": "code",
   "execution_count": 160,
   "metadata": {
    "execution": {
     "iopub.execute_input": "2021-11-21T22:11:32.426082Z",
     "iopub.status.busy": "2021-11-21T22:11:32.425423Z",
     "iopub.status.idle": "2021-11-21T22:11:33.488280Z",
     "shell.execute_reply": "2021-11-21T22:11:33.487572Z",
     "shell.execute_reply.started": "2021-11-21T22:11:32.426044Z"
    }
   },
   "outputs": [
    {
     "name": "stdout",
     "output_type": "stream",
     "text": [
      "16/16 [==============================] - 1s 54ms/step - loss: 0.7002 - accuracy: 0.4958\n"
     ]
    }
   ],
   "source": [
    "# Encode our concatenated data\n",
    "encoded_test_quotes = [tokenizer.encode(sent, add_special_tokens=True) for sent in X_test]\n",
    "max_length_text_tweet_eval = max([len(sent) for sent in encoded_test_quotes]) \n",
    "\n",
    "max_length_text_quotes_eval = 30\n",
    "\n",
    "# Ready test data\n",
    "test_y_labels = y_test\n",
    "\n",
    "test_x = tokenizer(\n",
    "    text=X_test.tolist(),\n",
    "    add_special_tokens=True,\n",
    "    max_length = max_length_text_quotes_eval,\n",
    "    truncation=True,\n",
    "    padding=True, \n",
    "    return_tensors='tf',\n",
    "    return_token_type_ids = False,\n",
    "    return_attention_mask = False,\n",
    "    verbose = True)\n",
    "\n",
    "\n",
    "# Run evaluation\n",
    "model_eval = model.evaluate(\n",
    "    x={'input_ids': test_x['input_ids']},\n",
    "    y={'label': test_y_labels}\n",
    ")"
   ]
  },
  {
   "cell_type": "code",
   "execution_count": 161,
   "metadata": {
    "execution": {
     "iopub.execute_input": "2021-11-21T22:11:33.491580Z",
     "iopub.status.busy": "2021-11-21T22:11:33.491383Z",
     "iopub.status.idle": "2021-11-21T22:11:37.168076Z",
     "shell.execute_reply": "2021-11-21T22:11:37.167322Z",
     "shell.execute_reply.started": "2021-11-21T22:11:33.491557Z"
    }
   },
   "outputs": [
    {
     "name": "stdout",
     "output_type": "stream",
     "text": [
      "input_pred['input_ids'].shape: (497, 30)\n"
     ]
    }
   ],
   "source": [
    "input_pred = tokenizer(\n",
    "    text=X_test.tolist(),\n",
    "    add_special_tokens=True,\n",
    "    max_length=max_length_text_quotes_eval,\n",
    "    truncation=True,\n",
    "    padding=True, \n",
    "    return_tensors='tf',\n",
    "    return_token_type_ids = False,\n",
    "    return_attention_mask = False,\n",
    "    verbose = True)\n",
    "\n",
    "print(\"input_pred['input_ids'].shape:\",input_pred['input_ids'].shape)\n",
    "\n",
    "y_pred = model.predict(input_pred['input_ids'])"
   ]
  },
  {
   "cell_type": "code",
   "execution_count": 162,
   "metadata": {
    "execution": {
     "iopub.execute_input": "2021-11-21T22:11:37.170015Z",
     "iopub.status.busy": "2021-11-21T22:11:37.169742Z",
     "iopub.status.idle": "2021-11-21T22:11:37.179742Z",
     "shell.execute_reply": "2021-11-21T22:11:37.178940Z",
     "shell.execute_reply.started": "2021-11-21T22:11:37.169981Z"
    }
   },
   "outputs": [
    {
     "name": "stdout",
     "output_type": "stream",
     "text": [
      "(497, 10)\n",
      "497\n"
     ]
    }
   ],
   "source": [
    "print(y_pred['label'].shape)\n",
    "y_pred = np.array([np.argmax(item) for item in y_pred['label']])\n",
    "print(len(y_pred))"
   ]
  },
  {
   "cell_type": "code",
   "execution_count": 163,
   "metadata": {
    "execution": {
     "iopub.execute_input": "2021-11-21T22:11:37.182251Z",
     "iopub.status.busy": "2021-11-21T22:11:37.181711Z",
     "iopub.status.idle": "2021-11-21T22:11:37.279182Z",
     "shell.execute_reply": "2021-11-21T22:11:37.278315Z",
     "shell.execute_reply.started": "2021-11-21T22:11:37.182184Z"
    }
   },
   "outputs": [],
   "source": [
    "tokenizer = Tokenizer(num_words=None)\n",
    "tokenizer.fit_on_texts(quotes_multi_label_data.quotes.values)"
   ]
  },
  {
   "cell_type": "code",
   "execution_count": 164,
   "metadata": {
    "execution": {
     "iopub.execute_input": "2021-11-21T22:11:37.280806Z",
     "iopub.status.busy": "2021-11-21T22:11:37.280509Z",
     "iopub.status.idle": "2021-11-21T22:11:38.714626Z",
     "shell.execute_reply": "2021-11-21T22:11:38.713085Z",
     "shell.execute_reply.started": "2021-11-21T22:11:37.280752Z"
    }
   },
   "outputs": [
    {
     "name": "stdout",
     "output_type": "stream",
     "text": [
      "[[12, 186, 7, 408, 650]]\n",
      "[[ 12 186   7 408 650   0   0   0   0   0   0   0   0   0   0   0   0   0\n",
      "    0   0   0   0   0   0   0   0   0   0   0   0]]\n",
      "['love', 'inspirational', 'life', 'humor', 'books', 'inspiration', 'reading', 'happiness', 'writing', 'inspirational-quotes']\n",
      "[0.3509988784790039, 0.4452987015247345, 0.5835486650466919, 0.4623573124408722, 0.4358856976032257, 0.5804783701896667, 0.6492245197296143, 0.37995806336402893, 0.5453282594680786, 0.5649363994598389]\n"
     ]
    }
   ],
   "source": [
    "sent = \"Be yourserlf,everyone else is already taken.\"\n",
    "txt = clean_text(sent)\n",
    "# print(txt)\n",
    "txt = tokenizer.texts_to_sequences([txt])\n",
    "print(txt)\n",
    "txt = pad_sequences(txt, maxlen=max_length_text_quotes_eval, padding='post' , dtype='int32')\n",
    "print(txt)\n",
    "# get probability for each class \n",
    "l = model.predict(txt,batch_size=1)['label'][0].tolist()\n",
    "print(top_10_tag)\n",
    "print(l)"
   ]
  },
  {
   "cell_type": "code",
   "execution_count": 165,
   "metadata": {
    "execution": {
     "iopub.execute_input": "2021-11-21T22:11:38.716376Z",
     "iopub.status.busy": "2021-11-21T22:11:38.716095Z",
     "iopub.status.idle": "2021-11-21T22:11:38.722502Z",
     "shell.execute_reply": "2021-11-21T22:11:38.721640Z",
     "shell.execute_reply.started": "2021-11-21T22:11:38.716340Z"
    }
   },
   "outputs": [],
   "source": [
    "def dl_predicted_tags(q):\n",
    "    txt = clean_text(sent)\n",
    "    txt = tokenizer.texts_to_sequences([txt])\n",
    "    txt = pad_sequences(txt, maxlen=max_length_text_quotes_eval, padding='post' , dtype='int32')\n",
    "    # get probability for each class \n",
    "    ts = model.predict(txt,batch_size=1)['label'][0].tolist()\n",
    "    predicted_tags_index = [ts.index(t) for t in ts if t >= .5]\n",
    "    predicted_tags_labels = [top_10_tag[i] for i in predicted_tags_index]\n",
    "    return predicted_tags_labels"
   ]
  },
  {
   "cell_type": "markdown",
   "metadata": {},
   "source": [
    "#### Test all predicted methods\n"
   ]
  },
  {
   "cell_type": "code",
   "execution_count": 166,
   "metadata": {
    "execution": {
     "iopub.execute_input": "2021-11-21T22:11:38.724645Z",
     "iopub.status.busy": "2021-11-21T22:11:38.724109Z",
     "iopub.status.idle": "2021-11-21T22:11:38.777082Z",
     "shell.execute_reply": "2021-11-21T22:11:38.776408Z",
     "shell.execute_reply.started": "2021-11-21T22:11:38.724609Z"
    }
   },
   "outputs": [
    {
     "name": "stdout",
     "output_type": "stream",
     "text": [
      "The predicted labels: []\n",
      "The predicted labels: ['life', 'reading', 'love', 'inspirational', 'humor']\n",
      "The predicted labels: ['inspiration', 'inspirational', 'reading', 'writing']\n",
      "The predicted labels: ['life', 'inspiration', 'reading', 'writing', 'inspirational-quotes']\n"
     ]
    }
   ],
   "source": [
    "q = \"Be yourserlf,everyone else is already taken.\"\n",
    "print(f'The predicted labels: {simple_multi_label(q)}')\n",
    "print(f'The predicted labels: {fuzzywuzzy_sim(q)}')\n",
    "print(f'The predicted labels: {ml_predicted_tags(q)}')\n",
    "print(f'The predicted labels: {dl_predicted_tags(q)}')"
   ]
  },
  {
   "cell_type": "code",
   "execution_count": 167,
   "metadata": {
    "execution": {
     "iopub.execute_input": "2021-11-21T22:11:38.779808Z",
     "iopub.status.busy": "2021-11-21T22:11:38.779566Z",
     "iopub.status.idle": "2021-11-21T22:11:38.784897Z",
     "shell.execute_reply": "2021-11-21T22:11:38.784054Z",
     "shell.execute_reply.started": "2021-11-21T22:11:38.779777Z"
    }
   },
   "outputs": [],
   "source": [
    "def comp_tags(q):\n",
    "    simple_tags = simple_multi_label(q)\n",
    "    fuzzwazzy   = fuzzywuzzy_sim(q)\n",
    "    ml_tags     = ml_predicted_tags(q)\n",
    "    dl_tags     = dl_predicted_tags(q)\n",
    "    comp_tags   = list(set(simple_tags + fuzzwazzy + ml_tags+ dl_tags))\n",
    "    return comp_tags[:10] if len(comp_tags) > 10 else comp_tags"
   ]
  },
  {
   "cell_type": "code",
   "execution_count": 168,
   "metadata": {
    "execution": {
     "iopub.execute_input": "2021-11-21T22:11:38.787640Z",
     "iopub.status.busy": "2021-11-21T22:11:38.787379Z",
     "iopub.status.idle": "2021-11-21T22:11:38.833658Z",
     "shell.execute_reply": "2021-11-21T22:11:38.832935Z",
     "shell.execute_reply.started": "2021-11-21T22:11:38.787607Z"
    }
   },
   "outputs": [
    {
     "name": "stdout",
     "output_type": "stream",
     "text": [
      "The predicted labels: ['books', 'life', 'inspirational', 'reading', 'writing', 'knowing', 'humor', 'friend', 'inspiration', 'inspirational-quotes']\n"
     ]
    }
   ],
   "source": [
    "q = \"A friend is someone who knows all about you and still loves you\"\n",
    "print(f'The predicted labels: {comp_tags(q)}')"
   ]
  },
  {
   "cell_type": "markdown",
   "metadata": {},
   "source": [
    "### Referances:\n",
    "[Multi-Label Text Classification](https://pianalytix.com/multi-label-text-classification/)\n",
    "\n",
    "\n",
    "[TF-IDF from scratch in python on a real-world dataset](https://towardsdatascience.com/tf-idf-for-document-ranking-from-scratch-in-python-on-real-world-dataset-796d339a4089)\n",
    "\n",
    "\n",
    "[A quick tutorial on how to deploy your Streamlit app to Heroku.\n",
    "](https://towardsdatascience.com/a-quick-tutorial-on-how-to-deploy-your-streamlit-app-to-heroku-874e1250dadd)\n",
    "\n",
    "\n",
    "[A quick tutorial on how to deploy your Streamlit app to Heroku-video](https://www.youtube.com/watch?v=zK4Ch6e1zq8)"
   ]
  },
  {
   "cell_type": "code",
   "execution_count": null,
   "metadata": {},
   "outputs": [],
   "source": []
  }
 ],
 "metadata": {
  "kernelspec": {
   "display_name": "Python 3",
   "language": "python",
   "name": "python3"
  },
  "language_info": {
   "codemirror_mode": {
    "name": "ipython",
    "version": 3
   },
   "file_extension": ".py",
   "mimetype": "text/x-python",
   "name": "python",
   "nbconvert_exporter": "python",
   "pygments_lexer": "ipython3",
   "version": "3.8.5"
  }
 },
 "nbformat": 4,
 "nbformat_minor": 4
}
