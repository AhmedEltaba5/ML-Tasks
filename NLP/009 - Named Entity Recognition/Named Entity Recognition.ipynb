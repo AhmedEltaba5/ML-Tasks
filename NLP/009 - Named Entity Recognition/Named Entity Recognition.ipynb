{
 "cells": [
  {
   "cell_type": "markdown",
   "id": "8947770b",
   "metadata": {},
   "source": [
    "Link to medium article: https://medium.com/data-knows-all/named-entity-recognition-5324503d70da"
   ]
  },
  {
   "cell_type": "code",
   "execution_count": 27,
   "id": "3d21ac9a",
   "metadata": {},
   "outputs": [],
   "source": [
    "import pandas as pd\n",
    "import random\n",
    "\n",
    "import spacy\n",
    "from spacy.training.example import Example\n",
    "from spacy import displacy\n",
    "from pathlib import Path\n",
    "nlp = spacy.load(\"en_core_web_sm\")\n",
    "\n",
    "import nltk\n",
    "from nltk.tokenize import sent_tokenize\n",
    "from nltk.tokenize import word_tokenize\n",
    "from nltk import word_tokenize, pos_tag, ne_chunk\n",
    "from nltk.chunk import tree2conlltags\n",
    "from nltk.tree import Tree"
   ]
  },
  {
   "cell_type": "code",
   "execution_count": 28,
   "id": "a6d886f4",
   "metadata": {},
   "outputs": [
    {
     "name": "stdout",
     "output_type": "stream",
     "text": [
      "showing info https://raw.githubusercontent.com/nltk/nltk_data/gh-pages/index.xml\n"
     ]
    },
    {
     "data": {
      "text/plain": [
       "True"
      ]
     },
     "execution_count": 28,
     "metadata": {},
     "output_type": "execute_result"
    }
   ],
   "source": [
    "# nltk.download()"
   ]
  },
  {
   "cell_type": "code",
   "execution_count": 16,
   "id": "32e4385a",
   "metadata": {},
   "outputs": [
    {
     "data": {
      "text/html": [
       "<span class=\"tex2jax_ignore\"><div class=\"entities\" style=\"line-height: 2.5; direction: ltr\">IN THE MATTER OF a proposed contract between \n",
       "<mark class=\"entity\" style=\"background: #7aecec; padding: 0.45em 0.6em; margin: 0 0.25em; line-height: 1; border-radius: 0.35em;\">\n",
       "    the Department of Citywide Administrative Services\n",
       "    <span style=\"font-size: 0.8em; font-weight: bold; line-height: 1; border-radius: 0.35em; vertical-align: middle; margin-left: 0.5rem\">ORG</span>\n",
       "</mark>\n",
       " of the City of New Yorkand Tesla, Inc., located at \n",
       "<mark class=\"entity\" style=\"background: #e4e7d2; padding: 0.45em 0.6em; margin: 0 0.25em; line-height: 1; border-radius: 0.35em;\">\n",
       "    3500\n",
       "    <span style=\"font-size: 0.8em; font-weight: bold; line-height: 1; border-radius: 0.35em; vertical-align: middle; margin-left: 0.5rem\">CARDINAL</span>\n",
       "</mark>\n",
       " Deer Creek Rd., \n",
       "<mark class=\"entity\" style=\"background: #feca74; padding: 0.45em 0.6em; margin: 0 0.25em; line-height: 1; border-radius: 0.35em;\">\n",
       "    Palo Alto\n",
       "    <span style=\"font-size: 0.8em; font-weight: bold; line-height: 1; border-radius: 0.35em; vertical-align: middle; margin-left: 0.5rem\">GPE</span>\n",
       "</mark>\n",
       ", CA 94304, for procuring Tesla Model 3 All-Electric Sedans.The contract is in the amount of $\n",
       "<mark class=\"entity\" style=\"background: #e4e7d2; padding: 0.45em 0.6em; margin: 0 0.25em; line-height: 1; border-radius: 0.35em;\">\n",
       "    12,360,000.00\n",
       "    <span style=\"font-size: 0.8em; font-weight: bold; line-height: 1; border-radius: 0.35em; vertical-align: middle; margin-left: 0.5rem\">MONEY</span>\n",
       "</mark>\n",
       ". The term of the contract shall be \n",
       "<mark class=\"entity\" style=\"background: #bfe1d9; padding: 0.45em 0.6em; margin: 0 0.25em; line-height: 1; border-radius: 0.35em;\">\n",
       "    five years from date\n",
       "    <span style=\"font-size: 0.8em; font-weight: bold; line-height: 1; border-radius: 0.35em; vertical-align: middle; margin-left: 0.5rem\">DATE</span>\n",
       "</mark>\n",
       " of Notice of Award.The proposed contractor has been selected by \n",
       "<mark class=\"entity\" style=\"background: #7aecec; padding: 0.45em 0.6em; margin: 0 0.25em; line-height: 1; border-radius: 0.35em;\">\n",
       "    Sole Source Procurement Method\n",
       "    <span style=\"font-size: 0.8em; font-weight: bold; line-height: 1; border-radius: 0.35em; vertical-align: middle; margin-left: 0.5rem\">ORG</span>\n",
       "</mark>\n",
       ", pursuant to \n",
       "<mark class=\"entity\" style=\"background: #ff8197; padding: 0.45em 0.6em; margin: 0 0.25em; line-height: 1; border-radius: 0.35em;\">\n",
       "    Section 3-05\n",
       "    <span style=\"font-size: 0.8em; font-weight: bold; line-height: 1; border-radius: 0.35em; vertical-align: middle; margin-left: 0.5rem\">LAW</span>\n",
       "</mark>\n",
       " of \n",
       "<mark class=\"entity\" style=\"background: #7aecec; padding: 0.45em 0.6em; margin: 0 0.25em; line-height: 1; border-radius: 0.35em;\">\n",
       "    the Procurement PolicyBoard Rules\n",
       "    <span style=\"font-size: 0.8em; font-weight: bold; line-height: 1; border-radius: 0.35em; vertical-align: middle; margin-left: 0.5rem\">ORG</span>\n",
       "</mark>\n",
       ". If the plan does go through, the \n",
       "<mark class=\"entity\" style=\"background: #e4e7d2; padding: 0.45em 0.6em; margin: 0 0.25em; line-height: 1; border-radius: 0.35em;\">\n",
       "    $12.36 million\n",
       "    <span style=\"font-size: 0.8em; font-weight: bold; line-height: 1; border-radius: 0.35em; vertical-align: middle; margin-left: 0.5rem\">MONEY</span>\n",
       "</mark>\n",
       " could effectively purchase \n",
       "<mark class=\"entity\" style=\"background: #e4e7d2; padding: 0.45em 0.6em; margin: 0 0.25em; line-height: 1; border-radius: 0.35em;\">\n",
       "    about 274\n",
       "    <span style=\"font-size: 0.8em; font-weight: bold; line-height: 1; border-radius: 0.35em; vertical-align: middle; margin-left: 0.5rem\">CARDINAL</span>\n",
       "</mark>\n",
       " units of the base Model 3Rear -Wheel-Drive, which cost $\n",
       "<mark class=\"entity\" style=\"background: #e4e7d2; padding: 0.45em 0.6em; margin: 0 0.25em; line-height: 1; border-radius: 0.35em;\">\n",
       "    44,990\n",
       "    <span style=\"font-size: 0.8em; font-weight: bold; line-height: 1; border-radius: 0.35em; vertical-align: middle; margin-left: 0.5rem\">MONEY</span>\n",
       "</mark>\n",
       " under \n",
       "<mark class=\"entity\" style=\"background: #7aecec; padding: 0.45em 0.6em; margin: 0 0.25em; line-height: 1; border-radius: 0.35em;\">\n",
       "    Tesla\n",
       "    <span style=\"font-size: 0.8em; font-weight: bold; line-height: 1; border-radius: 0.35em; vertical-align: middle; margin-left: 0.5rem\">ORG</span>\n",
       "</mark>\n",
       "'s current pricing structure.</div></span>"
      ],
      "text/plain": [
       "<IPython.core.display.HTML object>"
      ]
     },
     "metadata": {},
     "output_type": "display_data"
    }
   ],
   "source": [
    "text = \"IN THE MATTER OF a proposed contract between the Department of Citywide Administrative Services of the City of New York\\\n",
    "and Tesla, Inc., located at 3500 Deer Creek Rd., Palo Alto, CA 94304, for procuring Tesla Model 3 All-Electric Sedans.\\\n",
    "The contract is in the amount of $12,360,000.00. The term of the contract shall be five years from date of Notice of Award.\\\n",
    "The proposed contractor has been selected by Sole Source Procurement Method, pursuant to Section 3-05 of the Procurement Policy\\\n",
    "Board Rules. If the plan does go through, the $12.36 million could effectively purchase about 274 units of the base Model 3\\\n",
    "Rear -Wheel-Drive, which cost $44,990 under Tesla's current pricing structure.\"\n",
    "\n",
    "doc = nlp(text)\n",
    "displacy.render(doc, style=\"ent\")"
   ]
  },
  {
   "cell_type": "markdown",
   "id": "92a4d253",
   "metadata": {},
   "source": [
    "## Training Model for new entities"
   ]
  },
  {
   "cell_type": "code",
   "execution_count": 17,
   "id": "b06e098f",
   "metadata": {},
   "outputs": [],
   "source": [
    "def built_spacy_ner(text, target, type):\n",
    "    start = str.find(text, target)\n",
    "    end = start + len(target)\n",
    "\n",
    "    return (text, {\"entities\": [(start, end, type)]})"
   ]
  },
  {
   "cell_type": "code",
   "execution_count": 18,
   "id": "88d04405",
   "metadata": {},
   "outputs": [],
   "source": [
    "TRAIN_DATA = []\n",
    "TRAIN_DATA.append(\n",
    "  built_spacy_ner(\"I work for Autodesk.\", \"Autodesk\", \"ORG\")\n",
    "  )"
   ]
  },
  {
   "cell_type": "code",
   "execution_count": 19,
   "id": "738fd63b",
   "metadata": {},
   "outputs": [],
   "source": [
    "TRAIN_DATA.append(built_spacy_ner(\"I want to create a cloud-based service connected to Revit Server.\", \"Revit Server\", \"PRODUCT\"))\n",
    "TRAIN_DATA.append(built_spacy_ner(\"I'm new to the Forge API unsure where a design parameter is required\", \"Forge API\", \"API\"))\n",
    "TRAIN_DATA.append(built_spacy_ner(\"Autodesk Forge is my Platform of choice\", \"Autodesk Forge\", \"PRODUCT\"))\n",
    "TRAIN_DATA.append(built_spacy_ner(\"I've uploaded a Revit model to my OSS bucket.\", \"OSS\", \"SERVICE\"))\n",
    "TRAIN_DATA.append(built_spacy_ner(\"Changes are sent to a central BIM 360 server.\", \"BIM 360\", \"PRODUCT\"))\n",
    "TRAIN_DATA.append(built_spacy_ner(\"All of this is possible on the IFC format.\", \"IFC\", \"FORMAT\"))\n",
    "TRAIN_DATA.append(built_spacy_ner(\"The native file format for Revit is RVT.\", \"RVT\", \"FORMAT\"))\n",
    "TRAIN_DATA.append(built_spacy_ner(\"I work for Autodesk.\", \"Autodesk\", \"ORG\"))\n",
    "TRAIN_DATA.append(built_spacy_ner(\"Model Derivative API provides translation\", \"Model Derivative API\", \"API\"))\n",
    "TRAIN_DATA.append(built_spacy_ner(\"The Model Derivative API used in conjunction with the Viewer\", \"Model Derivative API\", \"API\"))\n",
    "TRAIN_DATA.append(built_spacy_ner(\"I would like to automate Revit with the Design Automation API\", \"Design Automation API\", \"API\"))"
   ]
  },
  {
   "cell_type": "code",
   "execution_count": 20,
   "id": "76a9787c",
   "metadata": {},
   "outputs": [
    {
     "data": {
      "text/plain": [
       "[('I work for Autodesk.', {'entities': [(11, 19, 'ORG')]}),\n",
       " ('I want to create a cloud-based service connected to Revit Server.',\n",
       "  {'entities': [(52, 64, 'PRODUCT')]}),\n",
       " (\"I'm new to the Forge API unsure where a design parameter is required\",\n",
       "  {'entities': [(15, 24, 'API')]}),\n",
       " ('Autodesk Forge is my Platform of choice',\n",
       "  {'entities': [(0, 14, 'PRODUCT')]}),\n",
       " (\"I've uploaded a Revit model to my OSS bucket.\",\n",
       "  {'entities': [(34, 37, 'SERVICE')]}),\n",
       " ('Changes are sent to a central BIM 360 server.',\n",
       "  {'entities': [(30, 37, 'PRODUCT')]}),\n",
       " ('All of this is possible on the IFC format.',\n",
       "  {'entities': [(31, 34, 'FORMAT')]}),\n",
       " ('The native file format for Revit is RVT.',\n",
       "  {'entities': [(36, 39, 'FORMAT')]}),\n",
       " ('I work for Autodesk.', {'entities': [(11, 19, 'ORG')]}),\n",
       " ('Model Derivative API provides translation', {'entities': [(0, 20, 'API')]}),\n",
       " ('The Model Derivative API used in conjunction with the Viewer',\n",
       "  {'entities': [(4, 24, 'API')]}),\n",
       " ('I would like to automate Revit with the Design Automation API',\n",
       "  {'entities': [(40, 61, 'API')]})]"
      ]
     },
     "execution_count": 20,
     "metadata": {},
     "output_type": "execute_result"
    }
   ],
   "source": [
    "TRAIN_DATA"
   ]
  },
  {
   "cell_type": "code",
   "execution_count": 21,
   "id": "75210b93",
   "metadata": {},
   "outputs": [],
   "source": [
    "# adding a named entity label\n",
    "ner = nlp.get_pipe('ner')\n",
    "\n",
    "# Iterate through training data and add new entitle labels.\n",
    "for _, annotations in TRAIN_DATA:\n",
    "  for ent in annotations.get(\"entities\"):\n",
    "    ner.add_label(ent[2])"
   ]
  },
  {
   "cell_type": "code",
   "execution_count": 22,
   "id": "0bedacd6",
   "metadata": {},
   "outputs": [
    {
     "name": "stdout",
     "output_type": "stream",
     "text": [
      "Final loss:  {'ner': 11.654562154740493}\n"
     ]
    }
   ],
   "source": [
    "# creating an optimizer and selecting a list of pipes NOT to train\n",
    "optimizer = nlp.create_optimizer()\n",
    "other_pipes = [pipe for pipe in nlp.pipe_names if pipe != 'ner']\n",
    "\n",
    "with nlp.disable_pipes(*other_pipes):\n",
    "    for itn in range(10):\n",
    "        random.shuffle(TRAIN_DATA)\n",
    "        losses = {}\n",
    "\n",
    "        # batch the examples and iterate over them\n",
    "        for batch in spacy.util.minibatch(TRAIN_DATA, size=2):\n",
    "            for text, annotations in batch:\n",
    "                doc = nlp.make_doc(text)\n",
    "                example = Example.from_dict(doc, annotations)\n",
    "                nlp.update([example], drop=0.35, sgd=optimizer, losses=losses)\n",
    "\n",
    "print(\"Final loss: \", losses)"
   ]
  },
  {
   "cell_type": "code",
   "execution_count": 24,
   "id": "a2f08f11",
   "metadata": {},
   "outputs": [
    {
     "data": {
      "text/html": [
       "<span class=\"tex2jax_ignore\"><div class=\"entities\" style=\"line-height: 2.5; direction: ltr\">I've been using for a long time the \n",
       "<mark class=\"entity\" style=\"background: #ddd; padding: 0.45em 0.6em; margin: 0 0.25em; line-height: 1; border-radius: 0.35em;\">\n",
       "    Model Derivative API from\n",
       "    <span style=\"font-size: 0.8em; font-weight: bold; line-height: 1; border-radius: 0.35em; vertical-align: middle; margin-left: 0.5rem\">API</span>\n",
       "</mark>\n",
       " \n",
       "<mark class=\"entity\" style=\"background: #bfeeb7; padding: 0.45em 0.6em; margin: 0 0.25em; line-height: 1; border-radius: 0.35em;\">\n",
       "    Autodesk Forge\n",
       "    <span style=\"font-size: 0.8em; font-weight: bold; line-height: 1; border-radius: 0.35em; vertical-align: middle; margin-left: 0.5rem\">PRODUCT</span>\n",
       "</mark>\n",
       " to (successfully) export Revit files to IFC. However, I notice that even when the original Revit files are saved with the \n",
       "<mark class=\"entity\" style=\"background: #c887fb; padding: 0.45em 0.6em; margin: 0 0.25em; line-height: 1; border-radius: 0.35em;\">\n",
       "    French\n",
       "    <span style=\"font-size: 0.8em; font-weight: bold; line-height: 1; border-radius: 0.35em; vertical-align: middle; margin-left: 0.5rem\">NORP</span>\n",
       "</mark>\n",
       " version of the software (namely, \n",
       "<mark class=\"entity\" style=\"background: #bfeeb7; padding: 0.45em 0.6em; margin: 0 0.25em; line-height: 1; border-radius: 0.35em;\">\n",
       "    Revit FRA\n",
       "    <span style=\"font-size: 0.8em; font-weight: bold; line-height: 1; border-radius: 0.35em; vertical-align: middle; margin-left: 0.5rem\">PRODUCT</span>\n",
       "</mark>\n",
       "), the properties (e.g. ) are exported in English ( ), and I see no option in the \n",
       "<mark class=\"entity\" style=\"background: #ddd; padding: 0.45em 0.6em; margin: 0 0.25em; line-height: 1; border-radius: 0.35em;\">\n",
       "    Model Derivative API to\n",
       "    <span style=\"font-size: 0.8em; font-weight: bold; line-height: 1; border-radius: 0.35em; vertical-align: middle; margin-left: 0.5rem\">API</span>\n",
       "</mark>\n",
       " force using the native language. Does someone have an idea on how to do that (if it is feasible)? I have searched on the official documentation and tried modifying the parameters mentioned for the conversion (see ), but with no success so far. Of course the same issue can be of interest for those exporting to other formats than IFC, or other languages than \n",
       "<mark class=\"entity\" style=\"background: #c887fb; padding: 0.45em 0.6em; margin: 0 0.25em; line-height: 1; border-radius: 0.35em;\">\n",
       "    French\n",
       "    <span style=\"font-size: 0.8em; font-weight: bold; line-height: 1; border-radius: 0.35em; vertical-align: middle; margin-left: 0.5rem\">NORP</span>\n",
       "</mark>\n",
       ". Thanks!</div></span>"
      ],
      "text/plain": [
       "<IPython.core.display.HTML object>"
      ]
     },
     "metadata": {},
     "output_type": "display_data"
    }
   ],
   "source": [
    "text = \"I've been using for a long time the Model Derivative API from Autodesk Forge to (successfully) export Revit files to IFC. However, I notice that even when the original Revit files are saved with the French version of the software (namely, Revit FRA), the properties (e.g. ) are exported in English ( ), and I see no option in the Model Derivative API to force using the native language. Does someone have an idea on how to do that (if it is feasible)? I have searched on the official documentation and tried modifying the parameters mentioned for the conversion (see ), but with no success so far. Of course the same issue can be of interest for those exporting to other formats than IFC, or other languages than French. Thanks!\"\n",
    "\n",
    "doc = nlp(text)\n",
    "html = displacy.render(doc, style=\"ent\", jupyter=False, page=True, minify=True)\n",
    "output_path = Path(\"ner_forge_after.html\")\n",
    "output_path.open(\"w\", encoding=\"utf-8\").write(html)\n",
    "displacy.render(doc, style=\"ent\", jupyter=True)"
   ]
  },
  {
   "cell_type": "markdown",
   "id": "62ac7321",
   "metadata": {},
   "source": [
    "## Named Entity Recognition with NLTK"
   ]
  },
  {
   "cell_type": "code",
   "execution_count": 29,
   "id": "da631037",
   "metadata": {},
   "outputs": [
    {
     "name": "stdout",
     "output_type": "stream",
     "text": [
      "ORGANIZATION Model Derivative\n",
      "PERSON Autodesk Forge\n",
      "PERSON Revit\n",
      "ORGANIZATION IFC\n",
      "GPE French\n",
      "PERSON Revit FRA\n",
      "GPE English\n",
      "ORGANIZATION Model Derivative\n",
      "GPE Does\n",
      "ORGANIZATION IFC\n",
      "GPE French\n"
     ]
    }
   ],
   "source": [
    "for sent in sent_tokenize(text):\n",
    "   for chunk in ne_chunk(pos_tag(word_tokenize(sent))):\n",
    "      if hasattr(chunk, 'label'):\n",
    "         print(chunk.label(), ' '.join(c[0] for c in chunk))"
   ]
  },
  {
   "cell_type": "markdown",
   "id": "3f911a71",
   "metadata": {},
   "source": [
    "NLTK doesn’t seem to tag items as well as Spacy for this particular text. A couple of differences only three types of tags are recognized where spacy has cardinal, date, money, and law all recognized from the same text. Additionally, Palo Alto and Tesla are recognized incorrectly as people and several other mistagged items. My experience is that while NLTK is certainly fully-featured, Spacy tends to perform better overall."
   ]
  },
  {
   "cell_type": "code",
   "execution_count": null,
   "id": "a4c6df0c",
   "metadata": {},
   "outputs": [],
   "source": []
  }
 ],
 "metadata": {
  "kernelspec": {
   "display_name": "Python 3 (ipykernel)",
   "language": "python",
   "name": "python3"
  },
  "language_info": {
   "codemirror_mode": {
    "name": "ipython",
    "version": 3
   },
   "file_extension": ".py",
   "mimetype": "text/x-python",
   "name": "python",
   "nbconvert_exporter": "python",
   "pygments_lexer": "ipython3",
   "version": "3.9.7"
  }
 },
 "nbformat": 4,
 "nbformat_minor": 5
}
